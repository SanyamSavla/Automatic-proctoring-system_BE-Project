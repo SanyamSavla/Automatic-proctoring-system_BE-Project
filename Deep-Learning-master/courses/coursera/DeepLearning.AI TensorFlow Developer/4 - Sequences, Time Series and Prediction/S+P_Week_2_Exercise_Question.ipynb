{
  "nbformat": 4,
  "nbformat_minor": 0,
  "metadata": {
    "colab": {
      "name": "S+P_Week_2_Exercise_Question.ipynb",
      "provenance": []
    },
    "kernelspec": {
      "display_name": "Python 3",
      "name": "python3"
    },
    "accelerator": "GPU"
  },
  "cells": [
    {
      "cell_type": "code",
      "metadata": {
        "id": "zX4Kg8DUTKWO",
        "colab_type": "code",
        "colab": {}
      },
      "source": [
        "#@title Licensed under the Apache License, Version 2.0 (the \"License\");\n",
        "# you may not use this file except in compliance with the License.\n",
        "# You may obtain a copy of the License at\n",
        "#\n",
        "# https://www.apache.org/licenses/LICENSE-2.0\n",
        "#\n",
        "# Unless required by applicable law or agreed to in writing, software\n",
        "# distributed under the License is distributed on an \"AS IS\" BASIS,\n",
        "# WITHOUT WARRANTIES OR CONDITIONS OF ANY KIND, either express or implied.\n",
        "# See the License for the specific language governing permissions and\n",
        "# limitations under the License."
      ],
      "execution_count": null,
      "outputs": []
    },
    {
      "cell_type": "code",
      "metadata": {
        "cellView": "both",
        "colab_type": "code",
        "id": "D1J15Vh_1Jih",
        "colab": {
          "base_uri": "https://localhost:8080/",
          "height": 50
        },
        "outputId": "ac8b8111-4918-4090-8c8d-d4ea02c69d9f"
      },
      "source": [
        "!pip install tf-nightly-2.0-preview\n"
      ],
      "execution_count": 1,
      "outputs": [
        {
          "output_type": "stream",
          "text": [
            "\u001b[31mERROR: Could not find a version that satisfies the requirement tf-nightly-2.0-preview (from versions: none)\u001b[0m\n",
            "\u001b[31mERROR: No matching distribution found for tf-nightly-2.0-preview\u001b[0m\n"
          ],
          "name": "stdout"
        }
      ]
    },
    {
      "cell_type": "code",
      "metadata": {
        "colab_type": "code",
        "id": "BOjujz601HcS",
        "colab": {
          "base_uri": "https://localhost:8080/",
          "height": 34
        },
        "outputId": "95d5c94a-4523-4649-c098-28c2b2f6bd43"
      },
      "source": [
        "import tensorflow as tf\n",
        "import numpy as np\n",
        "import matplotlib.pyplot as plt\n",
        "print(tf.__version__)"
      ],
      "execution_count": 2,
      "outputs": [
        {
          "output_type": "stream",
          "text": [
            "2.3.0\n"
          ],
          "name": "stdout"
        }
      ]
    },
    {
      "cell_type": "code",
      "metadata": {
        "colab_type": "code",
        "id": "Zswl7jRtGzkk",
        "colab": {
          "base_uri": "https://localhost:8080/",
          "height": 279
        },
        "outputId": "51a6d4b5-1676-4c24-8635-0bc883e9b634"
      },
      "source": [
        "def plot_series(time, series, format=\"-\", start=0, end=None):\n",
        "    plt.plot(time[start:end], series[start:end], format)\n",
        "    plt.xlabel(\"Time\")\n",
        "    plt.ylabel(\"Value\")\n",
        "    plt.grid(False)\n",
        "\n",
        "def trend(time, slope=0):\n",
        "    return slope * time\n",
        "\n",
        "def seasonal_pattern(season_time):\n",
        "    \"\"\"Just an arbitrary pattern, you can change it if you wish\"\"\"\n",
        "    return np.where(season_time < 0.1,\n",
        "                    np.cos(season_time * 4 * np.pi),\n",
        "                    1 / np.exp(5 * season_time))\n",
        "\n",
        "def seasonality(time, period, amplitude=1, phase=0):\n",
        "    \"\"\"Repeats the same pattern at each period\"\"\"\n",
        "    season_time = ((time + phase) % period) / period\n",
        "    return amplitude * seasonal_pattern(season_time)\n",
        "\n",
        "def noise(time, noise_level=1, seed=None):\n",
        "    rnd = np.random.RandomState(seed)\n",
        "    return rnd.randn(len(time)) * noise_level\n",
        "\n",
        "time = np.arange(10 * 365 + 1, dtype=\"float32\")\n",
        "baseline = 10\n",
        "series = trend(time, 0.5)  \n",
        "baseline = 10\n",
        "amplitude = 40\n",
        "slope = 0.005\n",
        "noise_level = 3\n",
        "\n",
        "# Create the series\n",
        "series = baseline + trend(time, slope) + seasonality(time, period=365, amplitude=amplitude)\n",
        "# Update with noise\n",
        "series += noise(time, noise_level, seed=51)\n",
        "\n",
        "split_time = 3000\n",
        "time_train = time[:split_time]\n",
        "x_train = series[:split_time]\n",
        "time_valid = time[split_time:]\n",
        "x_valid = series[split_time:]\n",
        "\n",
        "window_size = 20\n",
        "batch_size = 32\n",
        "shuffle_buffer_size = 1000\n",
        "\n",
        "plot_series(time, series)"
      ],
      "execution_count": 32,
      "outputs": [
        {
          "output_type": "display_data",
          "data": {
            "image/png": "[encoded data removed]",
            "text/plain": [
              "<Figure size 432x288 with 1 Axes>"
            ]
          },
          "metadata": {
            "tags": [],
            "needs_background": "light"
          }
        }
      ]
    },
    {
      "cell_type": "markdown",
      "metadata": {
        "colab_type": "text",
        "id": "GfUTNqti_lNC"
      },
      "source": [
        "Desired output -- a chart that looks like this:\n",
        "\n",
        "![Chart showing upward trend and seasonailty](http://www.laurencemoroney.com/wp-content/uploads/2019/07/plot1.png)"
      ]
    },
    {
      "cell_type": "code",
      "metadata": {
        "colab_type": "code",
        "id": "4sTTIOCbyShY",
        "colab": {}
      },
      "source": [
        "def windowed_dataset(series, window_size, batch_size, shuffle_buffer):\n",
        "  dataset = tf.data.Dataset.from_tensor_slices(series)\n",
        "  dataset = dataset.window(window_size + 1, shift=1, drop_remainder=True)\n",
        "  dataset = dataset.flat_map(lambda window: window.batch(window_size + 1))\n",
        "  dataset = dataset.shuffle(shuffle_buffer).map(lambda window: (window[:-1], window[-1]))\n",
        "  dataset = dataset.batch(batch_size).prefetch(1)\n",
        "  return dataset"
      ],
      "execution_count": 33,
      "outputs": []
    },
    {
      "cell_type": "code",
      "metadata": {
        "colab_type": "code",
        "id": "TW-vT7eLYAdb",
        "colab": {
          "base_uri": "https://localhost:8080/",
          "height": 1000
        },
        "outputId": "9da5d560-6446-4bd7-d995-5a97021eff9f"
      },
      "source": [
        "dataset = windowed_dataset(x_train, window_size, batch_size, shuffle_buffer_size)\n",
        "\n",
        "\n",
        "model = tf.keras.models.Sequential([\n",
        "    tf.keras.layers.Dense(10, input_dim=window_size),\n",
        "    tf.keras.layers.Dense(10, activation=\"relu\"), \n",
        "    tf.keras.layers.Dense(1)\n",
        "])\n",
        "\n",
        "model.compile(loss='mse', optimizer=\"adam\")\n",
        "model.fit(dataset,epochs=100,verbose=1)\n"
      ],
      "execution_count": 37,
      "outputs": [
        {
          "output_type": "stream",
          "text": [
            "Epoch 1/100\n",
            "94/94 [==============================] - 0s 3ms/step - loss: 140.8438\n",
            "Epoch 2/100\n",
            "94/94 [==============================] - 0s 3ms/step - loss: 30.4990\n",
            "Epoch 3/100\n",
            "94/94 [==============================] - 0s 4ms/step - loss: 28.3146\n",
            "Epoch 4/100\n",
            "94/94 [==============================] - 0s 4ms/step - loss: 26.5118\n",
            "Epoch 5/100\n",
            "94/94 [==============================] - 0s 3ms/step - loss: 24.8817\n",
            "Epoch 6/100\n",
            "94/94 [==============================] - 0s 3ms/step - loss: 23.7471\n",
            "Epoch 7/100\n",
            "94/94 [==============================] - 0s 3ms/step - loss: 22.8279\n",
            "Epoch 8/100\n",
            "94/94 [==============================] - 0s 3ms/step - loss: 22.1038\n",
            "Epoch 9/100\n",
            "94/94 [==============================] - 0s 4ms/step - loss: 21.4226\n",
            "Epoch 10/100\n",
            "94/94 [==============================] - 0s 3ms/step - loss: 20.8406\n",
            "Epoch 11/100\n",
            "94/94 [==============================] - 0s 3ms/step - loss: 20.1114\n",
            "Epoch 12/100\n",
            "94/94 [==============================] - 0s 3ms/step - loss: 19.9978\n",
            "Epoch 13/100\n",
            "94/94 [==============================] - 0s 4ms/step - loss: 19.2403\n",
            "Epoch 14/100\n",
            "94/94 [==============================] - 0s 4ms/step - loss: 19.0199\n",
            "Epoch 15/100\n",
            "94/94 [==============================] - 0s 3ms/step - loss: 18.6444\n",
            "Epoch 16/100\n",
            "94/94 [==============================] - 0s 3ms/step - loss: 18.4213\n",
            "Epoch 17/100\n",
            "94/94 [==============================] - 0s 3ms/step - loss: 18.0063\n",
            "Epoch 18/100\n",
            "94/94 [==============================] - 0s 3ms/step - loss: 17.6845\n",
            "Epoch 19/100\n",
            "94/94 [==============================] - 0s 3ms/step - loss: 18.1150\n",
            "Epoch 20/100\n",
            "94/94 [==============================] - 0s 3ms/step - loss: 17.4420\n",
            "Epoch 21/100\n",
            "94/94 [==============================] - 0s 3ms/step - loss: 17.8667\n",
            "Epoch 22/100\n",
            "94/94 [==============================] - 0s 3ms/step - loss: 17.5008\n",
            "Epoch 23/100\n",
            "94/94 [==============================] - 0s 3ms/step - loss: 17.4923\n",
            "Epoch 24/100\n",
            "94/94 [==============================] - 0s 3ms/step - loss: 17.0409\n",
            "Epoch 25/100\n",
            "94/94 [==============================] - 0s 3ms/step - loss: 17.1658\n",
            "Epoch 26/100\n",
            "94/94 [==============================] - 0s 3ms/step - loss: 17.0213\n",
            "Epoch 27/100\n",
            "94/94 [==============================] - 0s 3ms/step - loss: 17.7052\n",
            "Epoch 28/100\n",
            "94/94 [==============================] - 0s 3ms/step - loss: 16.7820\n",
            "Epoch 29/100\n",
            "94/94 [==============================] - 0s 3ms/step - loss: 16.8161\n",
            "Epoch 30/100\n",
            "94/94 [==============================] - 0s 5ms/step - loss: 16.7630\n",
            "Epoch 31/100\n",
            "94/94 [==============================] - 0s 4ms/step - loss: 16.7159\n",
            "Epoch 32/100\n",
            "94/94 [==============================] - 0s 3ms/step - loss: 16.5338\n",
            "Epoch 33/100\n",
            "94/94 [==============================] - 0s 3ms/step - loss: 17.0235\n",
            "Epoch 34/100\n",
            "94/94 [==============================] - 0s 3ms/step - loss: 16.8514\n",
            "Epoch 35/100\n",
            "94/94 [==============================] - 0s 3ms/step - loss: 16.5325\n",
            "Epoch 36/100\n",
            "94/94 [==============================] - 0s 4ms/step - loss: 16.3108\n",
            "Epoch 37/100\n",
            "94/94 [==============================] - 0s 3ms/step - loss: 16.4058\n",
            "Epoch 38/100\n",
            "94/94 [==============================] - 0s 3ms/step - loss: 16.3494\n",
            "Epoch 39/100\n",
            "94/94 [==============================] - 0s 3ms/step - loss: 16.5309\n",
            "Epoch 40/100\n",
            "94/94 [==============================] - 0s 4ms/step - loss: 16.5233\n",
            "Epoch 41/100\n",
            "94/94 [==============================] - 0s 5ms/step - loss: 16.2093\n",
            "Epoch 42/100\n",
            "94/94 [==============================] - 0s 3ms/step - loss: 16.3900\n",
            "Epoch 43/100\n",
            "94/94 [==============================] - 0s 3ms/step - loss: 16.3940\n",
            "Epoch 44/100\n",
            "94/94 [==============================] - 0s 3ms/step - loss: 16.4792\n",
            "Epoch 45/100\n",
            "94/94 [==============================] - 0s 4ms/step - loss: 16.2381\n",
            "Epoch 46/100\n",
            "94/94 [==============================] - 0s 4ms/step - loss: 16.2427\n",
            "Epoch 47/100\n",
            "94/94 [==============================] - 0s 3ms/step - loss: 16.2361\n",
            "Epoch 48/100\n",
            "94/94 [==============================] - 0s 3ms/step - loss: 16.0786\n",
            "Epoch 49/100\n",
            "94/94 [==============================] - 0s 3ms/step - loss: 16.7000\n",
            "Epoch 50/100\n",
            "94/94 [==============================] - 0s 4ms/step - loss: 16.2847\n",
            "Epoch 51/100\n",
            "94/94 [==============================] - 0s 5ms/step - loss: 16.1867\n",
            "Epoch 52/100\n",
            "94/94 [==============================] - 0s 4ms/step - loss: 16.4200\n",
            "Epoch 53/100\n",
            "94/94 [==============================] - 0s 5ms/step - loss: 16.1509\n",
            "Epoch 54/100\n",
            "94/94 [==============================] - 0s 4ms/step - loss: 16.2030\n",
            "Epoch 55/100\n",
            "94/94 [==============================] - 0s 3ms/step - loss: 16.0414\n",
            "Epoch 56/100\n",
            "94/94 [==============================] - 0s 3ms/step - loss: 16.1528\n",
            "Epoch 57/100\n",
            "94/94 [==============================] - 0s 3ms/step - loss: 16.0132\n",
            "Epoch 58/100\n",
            "94/94 [==============================] - 0s 3ms/step - loss: 16.2320\n",
            "Epoch 59/100\n",
            "94/94 [==============================] - 0s 3ms/step - loss: 16.0504\n",
            "Epoch 60/100\n",
            "94/94 [==============================] - 0s 3ms/step - loss: 16.1300\n",
            "Epoch 61/100\n",
            "94/94 [==============================] - 0s 3ms/step - loss: 15.9408\n",
            "Epoch 62/100\n",
            "94/94 [==============================] - 0s 3ms/step - loss: 16.1891\n",
            "Epoch 63/100\n",
            "94/94 [==============================] - 0s 3ms/step - loss: 16.0464\n",
            "Epoch 64/100\n",
            "94/94 [==============================] - 0s 3ms/step - loss: 16.0600\n",
            "Epoch 65/100\n",
            "94/94 [==============================] - 0s 3ms/step - loss: 16.1478\n",
            "Epoch 66/100\n",
            "94/94 [==============================] - 0s 4ms/step - loss: 16.0138\n",
            "Epoch 67/100\n",
            "94/94 [==============================] - 0s 4ms/step - loss: 15.8672\n",
            "Epoch 68/100\n",
            "94/94 [==============================] - 0s 3ms/step - loss: 15.9917\n",
            "Epoch 69/100\n",
            "94/94 [==============================] - 0s 3ms/step - loss: 16.1413\n",
            "Epoch 70/100\n",
            "94/94 [==============================] - 0s 3ms/step - loss: 16.2955\n",
            "Epoch 71/100\n",
            "94/94 [==============================] - 0s 3ms/step - loss: 16.1434\n",
            "Epoch 72/100\n",
            "94/94 [==============================] - 0s 3ms/step - loss: 16.0277\n",
            "Epoch 73/100\n",
            "94/94 [==============================] - 0s 4ms/step - loss: 15.9289\n",
            "Epoch 74/100\n",
            "94/94 [==============================] - 0s 3ms/step - loss: 16.0935\n",
            "Epoch 75/100\n",
            "94/94 [==============================] - 0s 3ms/step - loss: 16.1890\n",
            "Epoch 76/100\n",
            "94/94 [==============================] - 0s 3ms/step - loss: 16.2720\n",
            "Epoch 77/100\n",
            "94/94 [==============================] - 0s 3ms/step - loss: 15.9417\n",
            "Epoch 78/100\n",
            "94/94 [==============================] - 0s 3ms/step - loss: 15.9471\n",
            "Epoch 79/100\n",
            "94/94 [==============================] - 0s 3ms/step - loss: 15.9854\n",
            "Epoch 80/100\n",
            "94/94 [==============================] - 0s 3ms/step - loss: 16.0312\n",
            "Epoch 81/100\n",
            "94/94 [==============================] - 0s 3ms/step - loss: 16.3274\n",
            "Epoch 82/100\n",
            "94/94 [==============================] - 0s 4ms/step - loss: 15.7262\n",
            "Epoch 83/100\n",
            "94/94 [==============================] - 0s 5ms/step - loss: 16.0224\n",
            "Epoch 84/100\n",
            "94/94 [==============================] - 0s 3ms/step - loss: 15.7336\n",
            "Epoch 85/100\n",
            "94/94 [==============================] - 0s 3ms/step - loss: 15.8536\n",
            "Epoch 86/100\n",
            "94/94 [==============================] - 0s 3ms/step - loss: 15.8947\n",
            "Epoch 87/100\n",
            "94/94 [==============================] - 0s 3ms/step - loss: 15.8042\n",
            "Epoch 88/100\n",
            "94/94 [==============================] - 0s 5ms/step - loss: 16.0388\n",
            "Epoch 89/100\n",
            "94/94 [==============================] - 0s 3ms/step - loss: 16.6025\n",
            "Epoch 90/100\n",
            "94/94 [==============================] - 0s 5ms/step - loss: 16.1863\n",
            "Epoch 91/100\n",
            "94/94 [==============================] - 0s 3ms/step - loss: 15.7770\n",
            "Epoch 92/100\n",
            "94/94 [==============================] - 0s 3ms/step - loss: 16.1200\n",
            "Epoch 93/100\n",
            "94/94 [==============================] - 0s 3ms/step - loss: 15.8006\n",
            "Epoch 94/100\n",
            "94/94 [==============================] - 0s 3ms/step - loss: 16.1268\n",
            "Epoch 95/100\n",
            "94/94 [==============================] - 0s 3ms/step - loss: 16.1638\n",
            "Epoch 96/100\n",
            "94/94 [==============================] - 0s 3ms/step - loss: 16.0015\n",
            "Epoch 97/100\n",
            "94/94 [==============================] - 0s 3ms/step - loss: 15.8999\n",
            "Epoch 98/100\n",
            "94/94 [==============================] - 0s 3ms/step - loss: 15.8975\n",
            "Epoch 99/100\n",
            "94/94 [==============================] - 0s 3ms/step - loss: 15.9167\n",
            "Epoch 100/100\n",
            "94/94 [==============================] - 0s 3ms/step - loss: 15.7972\n"
          ],
          "name": "stdout"
        },
        {
          "output_type": "execute_result",
          "data": {
            "text/plain": [
              "<tensorflow.python.keras.callbacks.History at 0x7f2e603f97b8>"
            ]
          },
          "metadata": {
            "tags": []
          },
          "execution_count": 37
        }
      ]
    },
    {
      "cell_type": "code",
      "metadata": {
        "colab_type": "code",
        "id": "efhco2rYyIFF",
        "colab": {
          "base_uri": "https://localhost:8080/",
          "height": 388
        },
        "outputId": "2e474c5a-1534-43f7-edf7-1fa4c636822f"
      },
      "source": [
        "forecast = []\n",
        "for time in range(len(series) - window_size):\n",
        "  forecast.append(model.predict(series[time:time + window_size][np.newaxis]))\n",
        "\n",
        "forecast = forecast[split_time-window_size:]\n",
        "results = np.array(forecast)[:, 0, 0]\n",
        "\n",
        "\n",
        "plt.figure(figsize=(10, 6))\n",
        "\n",
        "plot_series(time_valid, x_valid)\n",
        "plot_series(time_valid, results)"
      ],
      "execution_count": 38,
      "outputs": [
        {
          "output_type": "display_data",
          "data": {
            "image/png": "[encoded data removed]",
            "text/plain": [
              "<Figure size 720x432 with 1 Axes>"
            ]
          },
          "metadata": {
            "tags": [],
            "needs_background": "light"
          }
        }
      ]
    },
    {
      "cell_type": "code",
      "metadata": {
        "colab_type": "code",
        "id": "-kT6j186YO6K",
        "colab": {
          "base_uri": "https://localhost:8080/",
          "height": 34
        },
        "outputId": "50f6cc13-8562-474d-d5cb-2de544150375"
      },
      "source": [
        "tf.keras.metrics.mean_absolute_error(x_valid, results).numpy()\n",
        "# EXPECTED OUTPUT\n",
        "# A Value less than 3"
      ],
      "execution_count": 39,
      "outputs": [
        {
          "output_type": "execute_result",
          "data": {
            "text/plain": [
              "2.966929"
            ]
          },
          "metadata": {
            "tags": []
          },
          "execution_count": 39
        }
      ]
    },
    {
      "cell_type": "code",
      "metadata": {
        "id": "JQKPxcbIHn33",
        "colab_type": "code",
        "colab": {}
      },
      "source": [
        ""
      ],
      "execution_count": null,
      "outputs": []
    }
  ]
}