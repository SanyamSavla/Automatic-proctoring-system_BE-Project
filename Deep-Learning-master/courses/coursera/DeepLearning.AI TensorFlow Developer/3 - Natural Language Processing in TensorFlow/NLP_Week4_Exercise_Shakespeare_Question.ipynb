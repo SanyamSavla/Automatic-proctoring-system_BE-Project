{
  "nbformat": 4,
  "nbformat_minor": 0,
  "metadata": {
    "accelerator": "GPU",
    "colab": {
      "name": "NLP_Week4_Exercise_Shakespeare_Question.ipynb",
      "provenance": [],
      "toc_visible": true
    },
    "kernelspec": {
      "display_name": "Python 3",
      "name": "python3"
    }
  },
  "cells": [
    {
      "cell_type": "code",
      "metadata": {
        "id": "zX4Kg8DUTKWO",
        "colab_type": "code",
        "colab": {}
      },
      "source": [
        "#@title Licensed under the Apache License, Version 2.0 (the \"License\");\n",
        "# you may not use this file except in compliance with the License.\n",
        "# You may obtain a copy of the License at\n",
        "#\n",
        "# https://www.apache.org/licenses/LICENSE-2.0\n",
        "#\n",
        "# Unless required by applicable law or agreed to in writing, software\n",
        "# distributed under the License is distributed on an \"AS IS\" BASIS,\n",
        "# WITHOUT WARRANTIES OR CONDITIONS OF ANY KIND, either express or implied.\n",
        "# See the License for the specific language governing permissions and\n",
        "# limitations under the License."
      ],
      "execution_count": null,
      "outputs": []
    },
    {
      "cell_type": "code",
      "metadata": {
        "colab_type": "code",
        "id": "BOwsuGQQY9OL",
        "colab": {}
      },
      "source": [
        "from tensorflow.keras.preprocessing.sequence import pad_sequences\n",
        "from tensorflow.keras.layers import Embedding, LSTM, Dense, Dropout, Bidirectional\n",
        "from tensorflow.keras.preprocessing.text import Tokenizer\n",
        "from tensorflow.keras.models import Sequential\n",
        "from tensorflow.keras.optimizers import Adam\n",
        "### YOUR CODE HERE\n",
        "# Figure out how to import regularizers\n",
        "###\n",
        "import tensorflow.keras.utils as ku \n",
        "import numpy as np "
      ],
      "execution_count": 2,
      "outputs": []
    },
    {
      "cell_type": "code",
      "metadata": {
        "colab_type": "code",
        "id": "PRnDnCW-Z7qv",
        "colab": {
          "base_uri": "https://localhost:8080/",
          "height": 202
        },
        "outputId": "f288f244-3910-4ab6-81b4-41e170dd19f4"
      },
      "source": [
        "tokenizer = Tokenizer()\n",
        "!wget --no-check-certificate \\\n",
        "    https://storage.googleapis.com/laurencemoroney-blog.appspot.com/sonnets.txt \\\n",
        "    -O /tmp/sonnets.txt\n",
        "data = open('/tmp/sonnets.txt').read()\n",
        "\n",
        "corpus = data.lower().split(\"\\n\")\n",
        "\n",
        "\n",
        "tokenizer.fit_on_texts(corpus)\n",
        "total_words = len(tokenizer.word_index) + 1\n",
        "\n",
        "# create input sequences using list of tokens\n",
        "input_sequences = []\n",
        "for line in corpus:\n",
        "\ttoken_list = tokenizer.texts_to_sequences([line])[0]\n",
        "\tfor i in range(1, len(token_list)):\n",
        "\t\tn_gram_sequence = token_list[:i+1]\n",
        "\t\tinput_sequences.append(n_gram_sequence)\n",
        "\n",
        "\n",
        "# pad sequences \n",
        "max_sequence_len = max([len(x) for x in input_sequences])\n",
        "input_sequences = np.array(pad_sequences(input_sequences, maxlen=max_sequence_len, padding='pre'))\n",
        "\n",
        "# create predictors and label\n",
        "predictors, label = input_sequences[:,:-1],input_sequences[:,-1]\n",
        "\n",
        "label = ku.to_categorical(label, num_classes=total_words)"
      ],
      "execution_count": 3,
      "outputs": [
        {
          "output_type": "stream",
          "text": [
            "--2020-09-07 13:08:23--  https://storage.googleapis.com/laurencemoroney-blog.appspot.com/sonnets.txt\n",
            "Resolving storage.googleapis.com (storage.googleapis.com)... 173.194.203.128, 74.125.142.128, 74.125.195.128, ...\n",
            "Connecting to storage.googleapis.com (storage.googleapis.com)|173.194.203.128|:443... connected.\n",
            "HTTP request sent, awaiting response... 200 OK\n",
            "Length: 93578 (91K) [text/plain]\n",
            "Saving to: ‘/tmp/sonnets.txt’\n",
            "\n",
            "\r/tmp/sonnets.txt      0%[                    ]       0  --.-KB/s               \r/tmp/sonnets.txt    100%[===================>]  91.38K  --.-KB/s    in 0.001s  \n",
            "\n",
            "2020-09-07 13:08:23 (151 MB/s) - ‘/tmp/sonnets.txt’ saved [93578/93578]\n",
            "\n"
          ],
          "name": "stdout"
        }
      ]
    },
    {
      "cell_type": "code",
      "metadata": {
        "colab_type": "code",
        "id": "w9vH8Y59ajYL",
        "colab": {
          "base_uri": "https://localhost:8080/",
          "height": 370
        },
        "outputId": "920eeedb-8a5c-4fc0-d420-d2dafa244b5c"
      },
      "source": [
        "model = Sequential()\n",
        "model.add(Embedding(total_words, 128, input_length=max_sequence_len-1))\n",
        "model.add(LSTM(128, return_sequences=True))\n",
        "model.add(Dropout(rate=0.5))\n",
        "model.add(LSTM(64))\n",
        "model.add(Dense(32, activation='relu', kernel_regularizer='l2'))\n",
        "model.add(Dense(total_words, activation='softmax'))\n",
        "# Pick an optimizer\n",
        "model.compile(optimizer=\"adam\", loss=\"categorical_crossentropy\", metrics=[\"accuracy\"])\n",
        "print(model.summary())\n"
      ],
      "execution_count": 10,
      "outputs": [
        {
          "output_type": "stream",
          "text": [
            "Model: \"sequential_2\"\n",
            "_________________________________________________________________\n",
            "Layer (type)                 Output Shape              Param #   \n",
            "=================================================================\n",
            "embedding_2 (Embedding)      (None, 10, 128)           411008    \n",
            "_________________________________________________________________\n",
            "lstm_4 (LSTM)                (None, 10, 128)           131584    \n",
            "_________________________________________________________________\n",
            "dropout_2 (Dropout)          (None, 10, 128)           0         \n",
            "_________________________________________________________________\n",
            "lstm_5 (LSTM)                (None, 64)                49408     \n",
            "_________________________________________________________________\n",
            "dense_2 (Dense)              (None, 32)                2080      \n",
            "_________________________________________________________________\n",
            "dense_3 (Dense)              (None, 3211)              105963    \n",
            "=================================================================\n",
            "Total params: 700,043\n",
            "Trainable params: 700,043\n",
            "Non-trainable params: 0\n",
            "_________________________________________________________________\n",
            "None\n"
          ],
          "name": "stdout"
        }
      ]
    },
    {
      "cell_type": "code",
      "metadata": {
        "colab_type": "code",
        "id": "AIg2f1HBxqof",
        "colab": {
          "base_uri": "https://localhost:8080/",
          "height": 1000
        },
        "outputId": "719707bb-cc98-4966-a24a-c3d3aef83fa6"
      },
      "source": [
        " history = model.fit(predictors, label, epochs=100, verbose=1)"
      ],
      "execution_count": 11,
      "outputs": [
        {
          "output_type": "stream",
          "text": [
            "Epoch 1/100\n",
            "484/484 [==============================] - 5s 11ms/step - loss: 7.0354 - accuracy: 0.0221\n",
            "Epoch 2/100\n",
            "484/484 [==============================] - 5s 11ms/step - loss: 6.5853 - accuracy: 0.0218\n",
            "Epoch 3/100\n",
            "484/484 [==============================] - 5s 11ms/step - loss: 6.4817 - accuracy: 0.0213\n",
            "Epoch 4/100\n",
            "484/484 [==============================] - 5s 11ms/step - loss: 6.4277 - accuracy: 0.0219\n",
            "Epoch 5/100\n",
            "484/484 [==============================] - 5s 11ms/step - loss: 6.3782 - accuracy: 0.0236\n",
            "Epoch 6/100\n",
            "484/484 [==============================] - 5s 11ms/step - loss: 6.3221 - accuracy: 0.0259\n",
            "Epoch 7/100\n",
            "484/484 [==============================] - 5s 11ms/step - loss: 6.2690 - accuracy: 0.0300\n",
            "Epoch 8/100\n",
            "484/484 [==============================] - 5s 10ms/step - loss: 6.2165 - accuracy: 0.0287\n",
            "Epoch 9/100\n",
            "484/484 [==============================] - 5s 11ms/step - loss: 6.1684 - accuracy: 0.0303\n",
            "Epoch 10/100\n",
            "484/484 [==============================] - 5s 11ms/step - loss: 6.1267 - accuracy: 0.0321\n",
            "Epoch 11/100\n",
            "484/484 [==============================] - 5s 11ms/step - loss: 6.0879 - accuracy: 0.0325\n",
            "Epoch 12/100\n",
            "484/484 [==============================] - 5s 11ms/step - loss: 6.0530 - accuracy: 0.0335\n",
            "Epoch 13/100\n",
            "484/484 [==============================] - 5s 11ms/step - loss: 6.0173 - accuracy: 0.0338\n",
            "Epoch 14/100\n",
            "484/484 [==============================] - 5s 11ms/step - loss: 5.9897 - accuracy: 0.0353\n",
            "Epoch 15/100\n",
            "484/484 [==============================] - 5s 10ms/step - loss: 5.9569 - accuracy: 0.0377\n",
            "Epoch 16/100\n",
            "484/484 [==============================] - 5s 10ms/step - loss: 5.9262 - accuracy: 0.0386\n",
            "Epoch 17/100\n",
            "484/484 [==============================] - 5s 11ms/step - loss: 5.8939 - accuracy: 0.0397\n",
            "Epoch 18/100\n",
            "484/484 [==============================] - 5s 10ms/step - loss: 5.8628 - accuracy: 0.0429\n",
            "Epoch 19/100\n",
            "484/484 [==============================] - 5s 11ms/step - loss: 5.8335 - accuracy: 0.0452\n",
            "Epoch 20/100\n",
            "484/484 [==============================] - 5s 10ms/step - loss: 5.8008 - accuracy: 0.0482\n",
            "Epoch 21/100\n",
            "484/484 [==============================] - 5s 11ms/step - loss: 5.7715 - accuracy: 0.0492\n",
            "Epoch 22/100\n",
            "484/484 [==============================] - 5s 11ms/step - loss: 5.7367 - accuracy: 0.0510\n",
            "Epoch 23/100\n",
            "484/484 [==============================] - 5s 10ms/step - loss: 5.6982 - accuracy: 0.0548\n",
            "Epoch 24/100\n",
            "484/484 [==============================] - 5s 10ms/step - loss: 5.6743 - accuracy: 0.0542\n",
            "Epoch 25/100\n",
            "484/484 [==============================] - 5s 10ms/step - loss: 5.6386 - accuracy: 0.0575\n",
            "Epoch 26/100\n",
            "484/484 [==============================] - 5s 10ms/step - loss: 5.6048 - accuracy: 0.0606\n",
            "Epoch 27/100\n",
            "484/484 [==============================] - 5s 10ms/step - loss: 5.5722 - accuracy: 0.0627\n",
            "Epoch 28/100\n",
            "484/484 [==============================] - 5s 10ms/step - loss: 5.5373 - accuracy: 0.0649\n",
            "Epoch 29/100\n",
            "484/484 [==============================] - 5s 10ms/step - loss: 5.5019 - accuracy: 0.0642\n",
            "Epoch 30/100\n",
            "484/484 [==============================] - 5s 10ms/step - loss: 5.4701 - accuracy: 0.0689\n",
            "Epoch 31/100\n",
            "484/484 [==============================] - 5s 10ms/step - loss: 5.4382 - accuracy: 0.0724\n",
            "Epoch 32/100\n",
            "484/484 [==============================] - 5s 11ms/step - loss: 5.4032 - accuracy: 0.0738\n",
            "Epoch 33/100\n",
            "484/484 [==============================] - 6s 11ms/step - loss: 5.3692 - accuracy: 0.0763\n",
            "Epoch 34/100\n",
            "484/484 [==============================] - 5s 11ms/step - loss: 5.3376 - accuracy: 0.0794\n",
            "Epoch 35/100\n",
            "484/484 [==============================] - 5s 10ms/step - loss: 5.3023 - accuracy: 0.0803\n",
            "Epoch 36/100\n",
            "484/484 [==============================] - 5s 10ms/step - loss: 5.2745 - accuracy: 0.0816\n",
            "Epoch 37/100\n",
            "484/484 [==============================] - 5s 10ms/step - loss: 5.2416 - accuracy: 0.0827\n",
            "Epoch 38/100\n",
            "484/484 [==============================] - 5s 10ms/step - loss: 5.2102 - accuracy: 0.0850\n",
            "Epoch 39/100\n",
            "484/484 [==============================] - 5s 11ms/step - loss: 5.1792 - accuracy: 0.0874\n",
            "Epoch 40/100\n",
            "484/484 [==============================] - 5s 10ms/step - loss: 5.1517 - accuracy: 0.0911\n",
            "Epoch 41/100\n",
            "484/484 [==============================] - 5s 11ms/step - loss: 5.1182 - accuracy: 0.0920\n",
            "Epoch 42/100\n",
            "484/484 [==============================] - 5s 10ms/step - loss: 5.0817 - accuracy: 0.0938\n",
            "Epoch 43/100\n",
            "484/484 [==============================] - 5s 10ms/step - loss: 5.0489 - accuracy: 0.0971\n",
            "Epoch 44/100\n",
            "484/484 [==============================] - 5s 10ms/step - loss: 5.0235 - accuracy: 0.0991\n",
            "Epoch 45/100\n",
            "484/484 [==============================] - 5s 10ms/step - loss: 4.9966 - accuracy: 0.0986\n",
            "Epoch 46/100\n",
            "484/484 [==============================] - 5s 10ms/step - loss: 4.9633 - accuracy: 0.1008\n",
            "Epoch 47/100\n",
            "484/484 [==============================] - 5s 10ms/step - loss: 4.9365 - accuracy: 0.1026\n",
            "Epoch 48/100\n",
            "484/484 [==============================] - 5s 10ms/step - loss: 4.9109 - accuracy: 0.1097\n",
            "Epoch 49/100\n",
            "484/484 [==============================] - 5s 10ms/step - loss: 4.8788 - accuracy: 0.1066\n",
            "Epoch 50/100\n",
            "484/484 [==============================] - 5s 10ms/step - loss: 4.8553 - accuracy: 0.1108\n",
            "Epoch 51/100\n",
            "484/484 [==============================] - 5s 10ms/step - loss: 4.8265 - accuracy: 0.1121\n",
            "Epoch 52/100\n",
            "484/484 [==============================] - 5s 11ms/step - loss: 4.7975 - accuracy: 0.1132\n",
            "Epoch 53/100\n",
            "484/484 [==============================] - 5s 10ms/step - loss: 4.7797 - accuracy: 0.1176\n",
            "Epoch 54/100\n",
            "484/484 [==============================] - 5s 10ms/step - loss: 4.7469 - accuracy: 0.1206\n",
            "Epoch 55/100\n",
            "484/484 [==============================] - 5s 10ms/step - loss: 4.7212 - accuracy: 0.1222\n",
            "Epoch 56/100\n",
            "484/484 [==============================] - 5s 10ms/step - loss: 4.6999 - accuracy: 0.1215\n",
            "Epoch 57/100\n",
            "484/484 [==============================] - 5s 10ms/step - loss: 4.6719 - accuracy: 0.1250\n",
            "Epoch 58/100\n",
            "484/484 [==============================] - 5s 10ms/step - loss: 4.6542 - accuracy: 0.1248\n",
            "Epoch 59/100\n",
            "484/484 [==============================] - 5s 10ms/step - loss: 4.6227 - accuracy: 0.1295\n",
            "Epoch 60/100\n",
            "484/484 [==============================] - 5s 10ms/step - loss: 4.5945 - accuracy: 0.1299\n",
            "Epoch 61/100\n",
            "484/484 [==============================] - 5s 10ms/step - loss: 4.5730 - accuracy: 0.1328\n",
            "Epoch 62/100\n",
            "484/484 [==============================] - 5s 10ms/step - loss: 4.5502 - accuracy: 0.1358\n",
            "Epoch 63/100\n",
            "484/484 [==============================] - 5s 11ms/step - loss: 4.5355 - accuracy: 0.1386\n",
            "Epoch 64/100\n",
            "484/484 [==============================] - 5s 10ms/step - loss: 4.5173 - accuracy: 0.1328\n",
            "Epoch 65/100\n",
            "484/484 [==============================] - 5s 10ms/step - loss: 4.4865 - accuracy: 0.1406\n",
            "Epoch 66/100\n",
            "484/484 [==============================] - 5s 10ms/step - loss: 4.4576 - accuracy: 0.1420\n",
            "Epoch 67/100\n",
            "484/484 [==============================] - 5s 10ms/step - loss: 4.4376 - accuracy: 0.1475\n",
            "Epoch 68/100\n",
            "484/484 [==============================] - 5s 10ms/step - loss: 4.4184 - accuracy: 0.1480\n",
            "Epoch 69/100\n",
            "484/484 [==============================] - 5s 10ms/step - loss: 4.3943 - accuracy: 0.1487\n",
            "Epoch 70/100\n",
            "484/484 [==============================] - 5s 10ms/step - loss: 4.3868 - accuracy: 0.1512\n",
            "Epoch 71/100\n",
            "484/484 [==============================] - 5s 10ms/step - loss: 4.3622 - accuracy: 0.1502\n",
            "Epoch 72/100\n",
            "484/484 [==============================] - 5s 10ms/step - loss: 4.3367 - accuracy: 0.1544\n",
            "Epoch 73/100\n",
            "484/484 [==============================] - 5s 10ms/step - loss: 4.3140 - accuracy: 0.1559\n",
            "Epoch 74/100\n",
            "484/484 [==============================] - 5s 10ms/step - loss: 4.2918 - accuracy: 0.1598\n",
            "Epoch 75/100\n",
            "484/484 [==============================] - 5s 11ms/step - loss: 4.2760 - accuracy: 0.1614\n",
            "Epoch 76/100\n",
            "484/484 [==============================] - 5s 10ms/step - loss: 4.2539 - accuracy: 0.1680\n",
            "Epoch 77/100\n",
            "484/484 [==============================] - 5s 10ms/step - loss: 4.2376 - accuracy: 0.1665\n",
            "Epoch 78/100\n",
            "484/484 [==============================] - 5s 10ms/step - loss: 4.2237 - accuracy: 0.1670\n",
            "Epoch 79/100\n",
            "484/484 [==============================] - 5s 10ms/step - loss: 4.1993 - accuracy: 0.1697\n",
            "Epoch 80/100\n",
            "484/484 [==============================] - 5s 10ms/step - loss: 4.1777 - accuracy: 0.1766\n",
            "Epoch 81/100\n",
            "484/484 [==============================] - 5s 10ms/step - loss: 4.1702 - accuracy: 0.1762\n",
            "Epoch 82/100\n",
            "484/484 [==============================] - 5s 10ms/step - loss: 4.1526 - accuracy: 0.1775\n",
            "Epoch 83/100\n",
            "484/484 [==============================] - 5s 10ms/step - loss: 4.1220 - accuracy: 0.1823\n",
            "Epoch 84/100\n",
            "484/484 [==============================] - 5s 10ms/step - loss: 4.1087 - accuracy: 0.1810\n",
            "Epoch 85/100\n",
            "484/484 [==============================] - 5s 10ms/step - loss: 4.0916 - accuracy: 0.1848\n",
            "Epoch 86/100\n",
            "484/484 [==============================] - 5s 10ms/step - loss: 4.0868 - accuracy: 0.1896\n",
            "Epoch 87/100\n",
            "484/484 [==============================] - 5s 10ms/step - loss: 4.0629 - accuracy: 0.1865\n",
            "Epoch 88/100\n",
            "484/484 [==============================] - 5s 10ms/step - loss: 4.0468 - accuracy: 0.1925\n",
            "Epoch 89/100\n",
            "484/484 [==============================] - 5s 10ms/step - loss: 4.0159 - accuracy: 0.1954\n",
            "Epoch 90/100\n",
            "484/484 [==============================] - 5s 10ms/step - loss: 4.0079 - accuracy: 0.1967\n",
            "Epoch 91/100\n",
            "484/484 [==============================] - 5s 10ms/step - loss: 3.9937 - accuracy: 0.2012\n",
            "Epoch 92/100\n",
            "484/484 [==============================] - 5s 10ms/step - loss: 3.9753 - accuracy: 0.1987\n",
            "Epoch 93/100\n",
            "484/484 [==============================] - 5s 10ms/step - loss: 3.9722 - accuracy: 0.1987\n",
            "Epoch 94/100\n",
            "484/484 [==============================] - 5s 10ms/step - loss: 3.9424 - accuracy: 0.2035\n",
            "Epoch 95/100\n",
            "484/484 [==============================] - 5s 11ms/step - loss: 3.9384 - accuracy: 0.2088\n",
            "Epoch 96/100\n",
            "484/484 [==============================] - 5s 11ms/step - loss: 3.9251 - accuracy: 0.2053\n",
            "Epoch 97/100\n",
            "484/484 [==============================] - 5s 10ms/step - loss: 3.8908 - accuracy: 0.2139\n",
            "Epoch 98/100\n",
            "484/484 [==============================] - 5s 10ms/step - loss: 3.8797 - accuracy: 0.2099\n",
            "Epoch 99/100\n",
            "484/484 [==============================] - 5s 10ms/step - loss: 3.8722 - accuracy: 0.2171\n",
            "Epoch 100/100\n",
            "484/484 [==============================] - 5s 11ms/step - loss: 3.8459 - accuracy: 0.2224\n"
          ],
          "name": "stdout"
        }
      ]
    },
    {
      "cell_type": "code",
      "metadata": {
        "colab_type": "code",
        "id": "1fXTEO3GJ282",
        "colab": {
          "base_uri": "https://localhost:8080/",
          "height": 545
        },
        "outputId": "315e7104-2185-4b2c-b4bb-82adecac841c"
      },
      "source": [
        "import matplotlib.pyplot as plt\n",
        "acc = history.history['accuracy']\n",
        "loss = history.history['loss']\n",
        "\n",
        "epochs = range(len(acc))\n",
        "\n",
        "plt.plot(epochs, acc, 'b', label='Training accuracy')\n",
        "plt.title('Training accuracy')\n",
        "\n",
        "plt.figure()\n",
        "\n",
        "plt.plot(epochs, loss, 'b', label='Training Loss')\n",
        "plt.title('Training loss')\n",
        "plt.legend()\n",
        "\n",
        "plt.show()"
      ],
      "execution_count": 12,
      "outputs": [
        {
          "output_type": "display_data",
          "data": {
            "image/png": "[encoded data removed]",
            "text/plain": [
              "<Figure size 432x288 with 1 Axes>"
            ]
          },
          "metadata": {
            "tags": [],
            "needs_background": "light"
          }
        },
        {
          "output_type": "display_data",
          "data": {
            "image/png": "[encoded data removed]",
            "text/plain": [
              "<Figure size 432x288 with 1 Axes>"
            ]
          },
          "metadata": {
            "tags": [],
            "needs_background": "light"
          }
        }
      ]
    },
    {
      "cell_type": "code",
      "metadata": {
        "colab_type": "code",
        "id": "6Vc6PHgxa6Hm",
        "colab": {
          "base_uri": "https://localhost:8080/",
          "height": 104
        },
        "outputId": "af080bd0-f407-42dc-e01b-1ada0dba79fe"
      },
      "source": [
        "seed_text = \"Help me Obi Wan Kenobi, you're my only hope\"\n",
        "next_words = 100\n",
        "  \n",
        "for _ in range(next_words):\n",
        "\ttoken_list = tokenizer.texts_to_sequences([seed_text])[0]\n",
        "\ttoken_list = pad_sequences([token_list], maxlen=max_sequence_len-1, padding='pre')\n",
        "\tpredicted = model.predict_classes(token_list, verbose=0)\n",
        "\toutput_word = \"\"\n",
        "\tfor word, index in tokenizer.word_index.items():\n",
        "\t\tif index == predicted:\n",
        "\t\t\toutput_word = word\n",
        "\t\t\tbreak\n",
        "\tseed_text += \" \" + output_word\n",
        "print(seed_text)"
      ],
      "execution_count": 13,
      "outputs": [
        {
          "output_type": "stream",
          "text": [
            "WARNING:tensorflow:From <ipython-input-13-622d307fa19a>:7: Sequential.predict_classes (from tensorflow.python.keras.engine.sequential) is deprecated and will be removed after 2021-01-01.\n",
            "Instructions for updating:\n",
            "Please use instead:* `np.argmax(model.predict(x), axis=-1)`,   if your model does multi-class classification   (e.g. if it uses a `softmax` last-layer activation).* `(model.predict(x) > 0.5).astype(\"int32\")`,   if your model does binary classification   (e.g. if it uses a `sigmoid` last-layer activation).\n",
            "Help me Obi Wan Kenobi, you're my only hope which then i see will thee lies grow light new sight ' rare afloat more more rare ' in all or dote quite deceive stay more light behind ' near crime more more of ' back and up red of his west doth give ill part his love in every part do it lies fled quite place still still lies gone up in thee pride grow white to hell stay than light crime crime mother mother of back of more sweet ' ' still of his thee red of ill light rare rare note rare bars doth mother his doom\n"
          ],
          "name": "stdout"
        }
      ]
    },
    {
      "cell_type": "code",
      "metadata": {
        "id": "VbVyPvjTvW3o",
        "colab_type": "code",
        "colab": {}
      },
      "source": [
        ""
      ],
      "execution_count": null,
      "outputs": []
    }
  ]
}