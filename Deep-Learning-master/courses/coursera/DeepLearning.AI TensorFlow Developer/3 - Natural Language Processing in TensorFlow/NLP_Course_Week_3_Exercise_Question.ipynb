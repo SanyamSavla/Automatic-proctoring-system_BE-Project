{
  "nbformat": 4,
  "nbformat_minor": 0,
  "metadata": {
    "accelerator": "GPU",
    "colab": {
      "name": "NLP Course - Week 3 Exercise Question.ipynb",
      "provenance": [],
      "toc_visible": true
    },
    "kernelspec": {
      "display_name": "Python 3",
      "name": "python3"
    }
  },
  "cells": [
    {
      "cell_type": "code",
      "metadata": {
        "id": "zX4Kg8DUTKWO",
        "colab_type": "code",
        "colab": {}
      },
      "source": [
        "#@title Licensed under the Apache License, Version 2.0 (the \"License\");\n",
        "# you may not use this file except in compliance with the License.\n",
        "# You may obtain a copy of the License at\n",
        "#\n",
        "# https://www.apache.org/licenses/LICENSE-2.0\n",
        "#\n",
        "# Unless required by applicable law or agreed to in writing, software\n",
        "# distributed under the License is distributed on an \"AS IS\" BASIS,\n",
        "# WITHOUT WARRANTIES OR CONDITIONS OF ANY KIND, either express or implied.\n",
        "# See the License for the specific language governing permissions and\n",
        "# limitations under the License."
      ],
      "execution_count": null,
      "outputs": []
    },
    {
      "cell_type": "code",
      "metadata": {
        "colab_type": "code",
        "id": "hmA6EzkQJ5jt",
        "colab": {}
      },
      "source": [
        "import json\n",
        "import tensorflow as tf\n",
        "import csv\n",
        "import random\n",
        "import numpy as np\n",
        "\n",
        "from tensorflow.keras.preprocessing.text import Tokenizer\n",
        "from tensorflow.keras.preprocessing.sequence import pad_sequences\n",
        "from tensorflow.keras.utils import to_categorical\n",
        "from tensorflow.keras import regularizers\n",
        "\n",
        "\n",
        "embedding_dim = 100\n",
        "max_length = 16\n",
        "trunc_type='post'\n",
        "padding_type='post'\n",
        "oov_tok = \"<OOV>\"\n",
        "training_size= 160000 #Your dataset size here. Experiment using smaller values (i.e. 16000), but don't forget to train on at least 160000 to see the best effects\n",
        "test_portion=.1\n",
        "\n",
        "corpus = []\n"
      ],
      "execution_count": 1,
      "outputs": []
    },
    {
      "cell_type": "code",
      "metadata": {
        "colab_type": "code",
        "id": "bM0l_dORKqE0",
        "colab": {
          "base_uri": "https://localhost:8080/",
          "height": 202
        },
        "outputId": "9b9f0bf7-54f3-4506-a536-9a29726572ed"
      },
      "source": [
        "# Note that I cleaned the Stanford dataset to remove LATIN1 encoding to make it easier for Python CSV reader\n",
        "# You can do that yourself with:\n",
        "# iconv -f LATIN1 -t UTF8 training.1600000.processed.noemoticon.csv -o training_cleaned.csv\n",
        "# I then hosted it on my site to make it easier to use in this notebook\n",
        "\n",
        "!wget --no-check-certificate \\\n",
        "    https://storage.googleapis.com/laurencemoroney-blog.appspot.com/training_cleaned.csv \\\n",
        "    -O /tmp/training_cleaned.csv\n",
        "\n",
        "num_sentences = 0\n",
        "corpus = []\n",
        "\n",
        "with open(\"/tmp/training_cleaned.csv\") as csvfile:\n",
        "    reader = csv.reader(csvfile, delimiter=',')\n",
        "    for row in reader:\n",
        "      # Your Code here. Create list items where the first item is the text, found in row[5], and the second is the label. Note that the label is a '0' or a '4' in the text. When it's the former, make\n",
        "      # your label to be 0, otherwise 1. Keep a count of the number of sentences in num_sentences\n",
        "        list_item = [row[5], int(row[0] != '0')]\n",
        "        # YOUR CODE HERE\n",
        "        num_sentences = num_sentences + 1\n",
        "        corpus.append(list_item)\n"
      ],
      "execution_count": 2,
      "outputs": [
        {
          "output_type": "stream",
          "text": [
            "--2020-09-06 18:09:08--  https://storage.googleapis.com/laurencemoroney-blog.appspot.com/training_cleaned.csv\n",
            "Resolving storage.googleapis.com (storage.googleapis.com)... 108.177.125.128, 74.125.203.128, 74.125.204.128, ...\n",
            "Connecting to storage.googleapis.com (storage.googleapis.com)|108.177.125.128|:443... connected.\n",
            "HTTP request sent, awaiting response... 200 OK\n",
            "Length: 238942690 (228M) [application/octet-stream]\n",
            "Saving to: ‘/tmp/training_cleaned.csv’\n",
            "\n",
            "/tmp/training_clean 100%[===================>] 227.87M  90.4MB/s    in 2.5s    \n",
            "\n",
            "2020-09-06 18:09:11 (90.4 MB/s) - ‘/tmp/training_cleaned.csv’ saved [238942690/238942690]\n",
            "\n"
          ],
          "name": "stdout"
        }
      ]
    },
    {
      "cell_type": "code",
      "metadata": {
        "colab_type": "code",
        "id": "3kxblBUjEUX-",
        "colab": {
          "base_uri": "https://localhost:8080/",
          "height": 67
        },
        "outputId": "5b8679f7-d5b5-457e-a2f0-829e7fcd2bb7"
      },
      "source": [
        "print(num_sentences)\n",
        "print(len(corpus))\n",
        "print(corpus[1])\n",
        "\n",
        "# Expected Output:\n",
        "# 1600000\n",
        "# 1600000\n",
        "# [\"is upset that he can't update his Facebook by texting it... and might cry as a result  School today also. Blah!\", 0]"
      ],
      "execution_count": 3,
      "outputs": [
        {
          "output_type": "stream",
          "text": [
            "1600000\n",
            "1600000\n",
            "[\"is upset that he can't update his Facebook by texting it... and might cry as a result  School today also. Blah!\", 0]\n"
          ],
          "name": "stdout"
        }
      ]
    },
    {
      "cell_type": "code",
      "metadata": {
        "colab_type": "code",
        "id": "ohOGz24lsNAD",
        "colab": {}
      },
      "source": [
        "sentences=[]\n",
        "labels=[]\n",
        "random.shuffle(corpus)\n",
        "for x in range(training_size):\n",
        "    sentences.append(corpus[x][0])\n",
        "    labels.append(corpus[x][1])\n",
        "\n",
        "\n",
        "tokenizer = Tokenizer(oov_token=oov_tok)\n",
        "tokenizer.fit_on_texts(sentences)\n",
        "\n",
        "word_index = tokenizer.word_index\n",
        "vocab_size = len(word_index)\n",
        "\n",
        "sequences = tokenizer.texts_to_sequences(sentences)\n",
        "padded = pad_sequences(sequences, maxlen=max_length, padding=padding_type, truncating=trunc_type)\n",
        "\n",
        "split = int(test_portion * training_size)\n",
        "\n",
        "test_sequences = padded[:split]\n",
        "training_sequences = padded[split:]\n",
        "test_labels = labels[:split]\n",
        "training_labels = labels[split:]"
      ],
      "execution_count": 4,
      "outputs": []
    },
    {
      "cell_type": "code",
      "metadata": {
        "colab_type": "code",
        "id": "gIrtRem1En3N",
        "colab": {
          "base_uri": "https://localhost:8080/",
          "height": 50
        },
        "outputId": "ac5d2d12-c744-44ed-d792-d460a5342591"
      },
      "source": [
        "print(vocab_size)\n",
        "print(word_index['i'])\n",
        "# Expected Output\n",
        "# 138858\n",
        "# 1"
      ],
      "execution_count": 5,
      "outputs": [
        {
          "output_type": "stream",
          "text": [
            "138322\n",
            "2\n"
          ],
          "name": "stdout"
        }
      ]
    },
    {
      "cell_type": "code",
      "metadata": {
        "colab_type": "code",
        "id": "C1zdgJkusRh0",
        "colab": {
          "base_uri": "https://localhost:8080/",
          "height": 202
        },
        "outputId": "54eae161-306b-4ce5-9d86-57f58bd48384"
      },
      "source": [
        "# Note this is the 100 dimension version of GloVe from Stanford\n",
        "# I unzipped and hosted it on my site to make this notebook easier\n",
        "!wget --no-check-certificate \\\n",
        "    https://storage.googleapis.com/laurencemoroney-blog.appspot.com/glove.6B.100d.txt \\\n",
        "    -O /tmp/glove.6B.100d.txt\n",
        "embeddings_index = {};\n",
        "with open('/tmp/glove.6B.100d.txt') as f:\n",
        "    for line in f:\n",
        "        values = line.split();\n",
        "        word = values[0];\n",
        "        coefs = np.asarray(values[1:], dtype='float32');\n",
        "        embeddings_index[word] = coefs;\n",
        "\n",
        "embeddings_matrix = np.zeros((vocab_size+1, embedding_dim));\n",
        "for word, i in word_index.items():\n",
        "    embedding_vector = embeddings_index.get(word);\n",
        "    if embedding_vector is not None:\n",
        "        embeddings_matrix[i] = embedding_vector;"
      ],
      "execution_count": 6,
      "outputs": [
        {
          "output_type": "stream",
          "text": [
            "--2020-09-06 18:09:22--  https://storage.googleapis.com/laurencemoroney-blog.appspot.com/glove.6B.100d.txt\n",
            "Resolving storage.googleapis.com (storage.googleapis.com)... 74.125.203.128, 64.233.187.128, 64.233.189.128, ...\n",
            "Connecting to storage.googleapis.com (storage.googleapis.com)|74.125.203.128|:443... connected.\n",
            "HTTP request sent, awaiting response... 200 OK\n",
            "Length: 347116733 (331M) [text/plain]\n",
            "Saving to: ‘/tmp/glove.6B.100d.txt’\n",
            "\n",
            "/tmp/glove.6B.100d. 100%[===================>] 331.04M  82.2MB/s    in 4.0s    \n",
            "\n",
            "2020-09-06 18:09:26 (82.2 MB/s) - ‘/tmp/glove.6B.100d.txt’ saved [347116733/347116733]\n",
            "\n"
          ],
          "name": "stdout"
        }
      ]
    },
    {
      "cell_type": "code",
      "metadata": {
        "colab_type": "code",
        "id": "71NLk_lpFLNt",
        "colab": {
          "base_uri": "https://localhost:8080/",
          "height": 34
        },
        "outputId": "964c3b78-ffee-4b16-ff11-5853c507f8b0"
      },
      "source": [
        "print(len(embeddings_matrix))\n",
        "# Expected Output\n",
        "# 138859"
      ],
      "execution_count": 7,
      "outputs": [
        {
          "output_type": "stream",
          "text": [
            "138323\n"
          ],
          "name": "stdout"
        }
      ]
    },
    {
      "cell_type": "code",
      "metadata": {
        "id": "1nuG5VHemVQW",
        "colab_type": "code",
        "colab": {}
      },
      "source": [
        "training_sequences = np.array(training_sequences)\n",
        "training_labels = np.array(training_labels)\n",
        "test_sequences = np.array(test_sequences)\n",
        "test_labels = np.array(test_labels)"
      ],
      "execution_count": 8,
      "outputs": []
    },
    {
      "cell_type": "code",
      "metadata": {
        "colab_type": "code",
        "id": "iKKvbuEBOGFz",
        "colab": {
          "base_uri": "https://localhost:8080/",
          "height": 1000
        },
        "outputId": "76e78399-e276-45c2-d7f9-6e8eaa295c0b"
      },
      "source": [
        "model = tf.keras.Sequential([\n",
        "    tf.keras.layers.Embedding(vocab_size+1, embedding_dim, input_length=max_length, weights=[embeddings_matrix], trainable=False),\n",
        "    # YOUR CODE HERE - experiment with combining different types, such as convolutions and LSTMs\n",
        "    tf.keras.layers.Dropout(rate=0.5),\n",
        "    tf.keras.layers.Conv1D(filters=64, kernel_size=5, activation=\"relu\"),\n",
        "    tf.keras.layers.MaxPool1D(pool_size=4),\n",
        "    tf.keras.layers.LSTM(32),\n",
        "    tf.keras.layers.Dense(units=1, activation='sigmoid')\n",
        "])\n",
        "model.compile(optimizer=\"adam\", loss=\"binary_crossentropy\", metrics=[\"accuracy\"])\n",
        "model.summary()\n",
        "\n",
        "num_epochs = 50\n",
        "history = model.fit(training_sequences, training_labels, epochs=num_epochs, validation_data=(test_sequences, test_labels), verbose=1)\n",
        "\n",
        "print(\"Training Complete\")\n"
      ],
      "execution_count": 13,
      "outputs": [
        {
          "output_type": "stream",
          "text": [
            "Model: \"sequential_3\"\n",
            "_________________________________________________________________\n",
            "Layer (type)                 Output Shape              Param #   \n",
            "=================================================================\n",
            "embedding_3 (Embedding)      (None, 16, 100)           13832300  \n",
            "_________________________________________________________________\n",
            "dropout_2 (Dropout)          (None, 16, 100)           0         \n",
            "_________________________________________________________________\n",
            "conv1d_2 (Conv1D)            (None, 12, 64)            32064     \n",
            "_________________________________________________________________\n",
            "max_pooling1d (MaxPooling1D) (None, 3, 64)             0         \n",
            "_________________________________________________________________\n",
            "lstm_2 (LSTM)                (None, 32)                12416     \n",
            "_________________________________________________________________\n",
            "dense_5 (Dense)              (None, 1)                 33        \n",
            "=================================================================\n",
            "Total params: 13,876,813\n",
            "Trainable params: 44,513\n",
            "Non-trainable params: 13,832,300\n",
            "_________________________________________________________________\n",
            "Epoch 1/50\n",
            "4500/4500 [==============================] - 16s 4ms/step - loss: 0.6033 - accuracy: 0.6678 - val_loss: 0.5414 - val_accuracy: 0.7201\n",
            "Epoch 2/50\n",
            "4500/4500 [==============================] - 14s 3ms/step - loss: 0.5717 - accuracy: 0.6954 - val_loss: 0.5327 - val_accuracy: 0.7275\n",
            "Epoch 3/50\n",
            "4500/4500 [==============================] - 14s 3ms/step - loss: 0.5618 - accuracy: 0.7041 - val_loss: 0.5252 - val_accuracy: 0.7362\n",
            "Epoch 4/50\n",
            "4500/4500 [==============================] - 14s 3ms/step - loss: 0.5547 - accuracy: 0.7097 - val_loss: 0.5198 - val_accuracy: 0.7398\n",
            "Epoch 5/50\n",
            "4500/4500 [==============================] - 14s 3ms/step - loss: 0.5489 - accuracy: 0.7146 - val_loss: 0.5161 - val_accuracy: 0.7410\n",
            "Epoch 6/50\n",
            "4500/4500 [==============================] - 15s 3ms/step - loss: 0.5451 - accuracy: 0.7179 - val_loss: 0.5141 - val_accuracy: 0.7420\n",
            "Epoch 7/50\n",
            "4500/4500 [==============================] - 14s 3ms/step - loss: 0.5410 - accuracy: 0.7201 - val_loss: 0.5104 - val_accuracy: 0.7436\n",
            "Epoch 8/50\n",
            "4500/4500 [==============================] - 14s 3ms/step - loss: 0.5390 - accuracy: 0.7223 - val_loss: 0.5193 - val_accuracy: 0.7390\n",
            "Epoch 9/50\n",
            "4500/4500 [==============================] - 14s 3ms/step - loss: 0.5367 - accuracy: 0.7237 - val_loss: 0.5108 - val_accuracy: 0.7443\n",
            "Epoch 10/50\n",
            "4500/4500 [==============================] - 14s 3ms/step - loss: 0.5331 - accuracy: 0.7266 - val_loss: 0.5101 - val_accuracy: 0.7472\n",
            "Epoch 11/50\n",
            "4500/4500 [==============================] - 14s 3ms/step - loss: 0.5327 - accuracy: 0.7274 - val_loss: 0.5081 - val_accuracy: 0.7467\n",
            "Epoch 12/50\n",
            "4500/4500 [==============================] - 14s 3ms/step - loss: 0.5308 - accuracy: 0.7285 - val_loss: 0.5066 - val_accuracy: 0.7496\n",
            "Epoch 13/50\n",
            "4500/4500 [==============================] - 14s 3ms/step - loss: 0.5296 - accuracy: 0.7286 - val_loss: 0.5079 - val_accuracy: 0.7496\n",
            "Epoch 14/50\n",
            "4500/4500 [==============================] - 14s 3ms/step - loss: 0.5297 - accuracy: 0.7288 - val_loss: 0.5062 - val_accuracy: 0.7536\n",
            "Epoch 15/50\n",
            "4500/4500 [==============================] - 14s 3ms/step - loss: 0.5279 - accuracy: 0.7308 - val_loss: 0.5057 - val_accuracy: 0.7497\n",
            "Epoch 16/50\n",
            "4500/4500 [==============================] - 14s 3ms/step - loss: 0.5271 - accuracy: 0.7318 - val_loss: 0.5084 - val_accuracy: 0.7491\n",
            "Epoch 17/50\n",
            "4500/4500 [==============================] - 14s 3ms/step - loss: 0.5263 - accuracy: 0.7321 - val_loss: 0.5055 - val_accuracy: 0.7508\n",
            "Epoch 18/50\n",
            "4500/4500 [==============================] - 14s 3ms/step - loss: 0.5240 - accuracy: 0.7342 - val_loss: 0.5044 - val_accuracy: 0.7504\n",
            "Epoch 19/50\n",
            "4500/4500 [==============================] - 14s 3ms/step - loss: 0.5242 - accuracy: 0.7345 - val_loss: 0.5038 - val_accuracy: 0.7504\n",
            "Epoch 20/50\n",
            "4500/4500 [==============================] - 14s 3ms/step - loss: 0.5246 - accuracy: 0.7329 - val_loss: 0.5058 - val_accuracy: 0.7499\n",
            "Epoch 21/50\n",
            "4500/4500 [==============================] - 14s 3ms/step - loss: 0.5231 - accuracy: 0.7336 - val_loss: 0.5059 - val_accuracy: 0.7489\n",
            "Epoch 22/50\n",
            "4500/4500 [==============================] - 15s 3ms/step - loss: 0.5222 - accuracy: 0.7348 - val_loss: 0.5080 - val_accuracy: 0.7478\n",
            "Epoch 23/50\n",
            "4500/4500 [==============================] - 15s 3ms/step - loss: 0.5211 - accuracy: 0.7362 - val_loss: 0.5038 - val_accuracy: 0.7501\n",
            "Epoch 24/50\n",
            "4500/4500 [==============================] - 14s 3ms/step - loss: 0.5223 - accuracy: 0.7346 - val_loss: 0.5035 - val_accuracy: 0.7509\n",
            "Epoch 25/50\n",
            "4500/4500 [==============================] - 14s 3ms/step - loss: 0.5227 - accuracy: 0.7348 - val_loss: 0.5035 - val_accuracy: 0.7517\n",
            "Epoch 26/50\n",
            "4500/4500 [==============================] - 14s 3ms/step - loss: 0.5205 - accuracy: 0.7357 - val_loss: 0.5015 - val_accuracy: 0.7516\n",
            "Epoch 27/50\n",
            "4500/4500 [==============================] - 14s 3ms/step - loss: 0.5197 - accuracy: 0.7368 - val_loss: 0.5014 - val_accuracy: 0.7515\n",
            "Epoch 28/50\n",
            "4500/4500 [==============================] - 14s 3ms/step - loss: 0.5190 - accuracy: 0.7369 - val_loss: 0.5034 - val_accuracy: 0.7509\n",
            "Epoch 29/50\n",
            "4500/4500 [==============================] - 15s 3ms/step - loss: 0.5187 - accuracy: 0.7377 - val_loss: 0.5024 - val_accuracy: 0.7520\n",
            "Epoch 30/50\n",
            "4500/4500 [==============================] - 15s 3ms/step - loss: 0.5180 - accuracy: 0.7390 - val_loss: 0.5071 - val_accuracy: 0.7477\n",
            "Epoch 31/50\n",
            "4500/4500 [==============================] - 14s 3ms/step - loss: 0.5182 - accuracy: 0.7390 - val_loss: 0.5025 - val_accuracy: 0.7505\n",
            "Epoch 32/50\n",
            "4500/4500 [==============================] - 14s 3ms/step - loss: 0.5181 - accuracy: 0.7384 - val_loss: 0.5010 - val_accuracy: 0.7548\n",
            "Epoch 33/50\n",
            "4500/4500 [==============================] - 14s 3ms/step - loss: 0.5179 - accuracy: 0.7369 - val_loss: 0.5014 - val_accuracy: 0.7536\n",
            "Epoch 34/50\n",
            "4500/4500 [==============================] - 15s 3ms/step - loss: 0.5159 - accuracy: 0.7389 - val_loss: 0.5026 - val_accuracy: 0.7515\n",
            "Epoch 35/50\n",
            "4500/4500 [==============================] - 14s 3ms/step - loss: 0.5163 - accuracy: 0.7387 - val_loss: 0.5017 - val_accuracy: 0.7517\n",
            "Epoch 36/50\n",
            "4500/4500 [==============================] - 14s 3ms/step - loss: 0.5163 - accuracy: 0.7393 - val_loss: 0.4998 - val_accuracy: 0.7541\n",
            "Epoch 37/50\n",
            "4500/4500 [==============================] - 14s 3ms/step - loss: 0.5161 - accuracy: 0.7393 - val_loss: 0.5014 - val_accuracy: 0.7527\n",
            "Epoch 38/50\n",
            "4500/4500 [==============================] - 14s 3ms/step - loss: 0.5166 - accuracy: 0.7383 - val_loss: 0.5007 - val_accuracy: 0.7547\n",
            "Epoch 39/50\n",
            "4500/4500 [==============================] - 14s 3ms/step - loss: 0.5163 - accuracy: 0.7382 - val_loss: 0.5032 - val_accuracy: 0.7532\n",
            "Epoch 40/50\n",
            "4500/4500 [==============================] - 14s 3ms/step - loss: 0.5157 - accuracy: 0.7406 - val_loss: 0.5003 - val_accuracy: 0.7546\n",
            "Epoch 41/50\n",
            "4500/4500 [==============================] - 14s 3ms/step - loss: 0.5142 - accuracy: 0.7401 - val_loss: 0.5013 - val_accuracy: 0.7537\n",
            "Epoch 42/50\n",
            "4500/4500 [==============================] - 14s 3ms/step - loss: 0.5163 - accuracy: 0.7402 - val_loss: 0.5049 - val_accuracy: 0.7514\n",
            "Epoch 43/50\n",
            "4500/4500 [==============================] - 14s 3ms/step - loss: 0.5144 - accuracy: 0.7401 - val_loss: 0.5019 - val_accuracy: 0.7521\n",
            "Epoch 44/50\n",
            "4500/4500 [==============================] - 15s 3ms/step - loss: 0.5148 - accuracy: 0.7410 - val_loss: 0.5038 - val_accuracy: 0.7513\n",
            "Epoch 45/50\n",
            "4500/4500 [==============================] - 15s 3ms/step - loss: 0.5151 - accuracy: 0.7414 - val_loss: 0.5002 - val_accuracy: 0.7549\n",
            "Epoch 46/50\n",
            "4500/4500 [==============================] - 14s 3ms/step - loss: 0.5162 - accuracy: 0.7394 - val_loss: 0.5036 - val_accuracy: 0.7524\n",
            "Epoch 47/50\n",
            "4500/4500 [==============================] - 14s 3ms/step - loss: 0.5140 - accuracy: 0.7415 - val_loss: 0.5005 - val_accuracy: 0.7568\n",
            "Epoch 48/50\n",
            "4500/4500 [==============================] - 14s 3ms/step - loss: 0.5135 - accuracy: 0.7401 - val_loss: 0.4984 - val_accuracy: 0.7586\n",
            "Epoch 49/50\n",
            "4500/4500 [==============================] - 14s 3ms/step - loss: 0.5128 - accuracy: 0.7431 - val_loss: 0.4986 - val_accuracy: 0.7585\n",
            "Epoch 50/50\n",
            "4500/4500 [==============================] - 14s 3ms/step - loss: 0.5126 - accuracy: 0.7415 - val_loss: 0.5001 - val_accuracy: 0.7556\n",
            "Training Complete\n"
          ],
          "name": "stdout"
        }
      ]
    },
    {
      "cell_type": "code",
      "metadata": {
        "colab_type": "code",
        "id": "qxju4ItJKO8F",
        "colab": {
          "base_uri": "https://localhost:8080/",
          "height": 606
        },
        "outputId": "b98ec9a2-e02c-4225-8593-99e053befe29"
      },
      "source": [
        "import matplotlib.image  as mpimg\n",
        "import matplotlib.pyplot as plt\n",
        "\n",
        "#-----------------------------------------------------------\n",
        "# Retrieve a list of list results on training and test data\n",
        "# sets for each training epoch\n",
        "#-----------------------------------------------------------\n",
        "acc=history.history['accuracy']\n",
        "val_acc=history.history['val_accuracy']\n",
        "loss=history.history['loss']\n",
        "val_loss=history.history['val_loss']\n",
        "\n",
        "epochs=range(len(acc)) # Get number of epochs\n",
        "\n",
        "#------------------------------------------------\n",
        "# Plot training and validation accuracy per epoch\n",
        "#------------------------------------------------\n",
        "plt.plot(epochs, acc, 'r')\n",
        "plt.plot(epochs, val_acc, 'b')\n",
        "plt.title('Training and validation accuracy')\n",
        "plt.xlabel(\"Epochs\")\n",
        "plt.ylabel(\"Accuracy\")\n",
        "plt.legend([\"Accuracy\", \"Validation Accuracy\"])\n",
        "\n",
        "plt.figure()\n",
        "\n",
        "#------------------------------------------------\n",
        "# Plot training and validation loss per epoch\n",
        "#------------------------------------------------\n",
        "plt.plot(epochs, loss, 'r')\n",
        "plt.plot(epochs, val_loss, 'b')\n",
        "plt.title('Training and validation loss')\n",
        "plt.xlabel(\"Epochs\")\n",
        "plt.ylabel(\"Loss\")\n",
        "plt.legend([\"Loss\", \"Validation Loss\"])\n",
        "\n",
        "plt.figure()\n",
        "\n",
        "\n",
        "# Expected Output\n",
        "# A chart where the validation loss does not increase sharply!"
      ],
      "execution_count": 14,
      "outputs": [
        {
          "output_type": "execute_result",
          "data": {
            "text/plain": [
              "<Figure size 432x288 with 0 Axes>"
            ]
          },
          "metadata": {
            "tags": []
          },
          "execution_count": 14
        },
        {
          "output_type": "display_data",
          "data": {
            "image/png": "[encoded data removed]",
            "text/plain": [
              "<Figure size 432x288 with 1 Axes>"
            ]
          },
          "metadata": {
            "tags": [],
            "needs_background": "light"
          }
        },
        {
          "output_type": "display_data",
          "data": {
            "image/png": "[encoded data removed]",
            "text/plain": [
              "<Figure size 432x288 with 1 Axes>"
            ]
          },
          "metadata": {
            "tags": [],
            "needs_background": "light"
          }
        },
        {
          "output_type": "display_data",
          "data": {
            "text/plain": [
              "<Figure size 432x288 with 0 Axes>"
            ]
          },
          "metadata": {
            "tags": []
          }
        }
      ]
    },
    {
      "cell_type": "code",
      "metadata": {
        "id": "GZzFsLdjrTR3",
        "colab_type": "code",
        "colab": {}
      },
      "source": [
        ""
      ],
      "execution_count": null,
      "outputs": []
    }
  ]
}