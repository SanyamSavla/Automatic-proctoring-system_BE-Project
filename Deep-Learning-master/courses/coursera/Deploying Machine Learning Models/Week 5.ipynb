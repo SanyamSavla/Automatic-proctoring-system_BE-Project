{
 "cells": [
  {
   "cell_type": "markdown",
   "metadata": {},
   "source": [
    "# Project Submission\n",
    "\n",
    "This notebook will be your project submission. All tasks will be listed in the order of the Courses that they appear in. The tasks will be the same as in the Capstone Example Notebook, but in this submission you ___MUST___ use another dataset. Failure to do so will result in a large penalty to your grade in this course.\n",
    "\n",
    "## Finding your dataset\n",
    "\n",
    "Take some time to find an interesting dataset! There is a reading discussing various places where datasets can be found, but if you are able to process it, go ahead and use it! Do note, for some tasks in this project, each entry will need 3+ attributes, so keep that in mind when finding datasets. After you have found your dataset, the tasks will continue as in the Example Notebook. You will be graded based on the tasks and your results. Best of luck!\n",
    "\n",
    "### As Reviewer: \n",
    "Your job will be to verify the calculations made at each \"TODO\" labeled throughout the notebook."
   ]
  },
  {
   "cell_type": "markdown",
   "metadata": {},
   "source": [
    "### First Step: Imports\n",
    "\n",
    "In the next cell we will give you all of the imports you should need to do your project. Feel free to add more if you would like, but these should be sufficient."
   ]
  },
  {
   "cell_type": "code",
   "execution_count": 1,
   "metadata": {},
   "outputs": [],
   "source": [
    "import gzip\n",
    "from collections import defaultdict\n",
    "import random\n",
    "import numpy\n",
    "import scipy.optimize\n",
    "import string\n",
    "from nltk.stem.porter import PorterStemmer # Stemming\n",
    "\n",
    "import numpy as np\n",
    "import pandas as pd\n",
    "import matplotlib.pyplot as plt\n",
    "from sklearn.model_selection import train_test_split\n",
    "from sklearn.linear_model import LogisticRegression, Ridge\n",
    "from sklearn.preprocessing import StandardScaler\n",
    "from sklearn.metrics import accuracy_score\n",
    "\n",
    "pd.options.display.max_columns = 50\n",
    "%matplotlib inline"
   ]
  },
  {
   "cell_type": "markdown",
   "metadata": {},
   "source": [
    "# Task 1: Data Processing\n",
    "\n",
    "### TODO 1: Read the data and Fill your dataset\n",
    "\n",
    "I will use the TMDB Dataset, a well-know movie dataset with ~5000 movies. It's publicy avaliable at [Kaggle](https://www.kaggle.com/rounakbanik/the-movies-dataset). For the Task 1, I will select the following columns:\n",
    "\n",
    "- `original_title`: the movie's title\n",
    "- `popularity`: a number to measure how popular a film is. The higher the better.\n",
    "- `budget`: the amount of money to produce the movie.\n",
    "- `revenue`: the total amount of money earned by the movie.\n",
    "- `vote_average`: the average of ratings given by users."
   ]
  },
  {
   "cell_type": "code",
   "execution_count": 2,
   "metadata": {},
   "outputs": [
    {
     "data": {
      "text/html": [
       "<div>\n",
       "<style scoped>\n",
       "    .dataframe tbody tr th:only-of-type {\n",
       "        vertical-align: middle;\n",
       "    }\n",
       "\n",
       "    .dataframe tbody tr th {\n",
       "        vertical-align: top;\n",
       "    }\n",
       "\n",
       "    .dataframe thead th {\n",
       "        text-align: right;\n",
       "    }\n",
       "</style>\n",
       "<table border=\"1\" class=\"dataframe\">\n",
       "  <thead>\n",
       "    <tr style=\"text-align: right;\">\n",
       "      <th></th>\n",
       "      <th>id</th>\n",
       "      <th>original_title</th>\n",
       "      <th>popularity</th>\n",
       "      <th>budget</th>\n",
       "      <th>revenue</th>\n",
       "      <th>vote_average</th>\n",
       "    </tr>\n",
       "  </thead>\n",
       "  <tbody>\n",
       "    <tr>\n",
       "      <th>0</th>\n",
       "      <td>862</td>\n",
       "      <td>Toy Story</td>\n",
       "      <td>21.946943</td>\n",
       "      <td>30000000</td>\n",
       "      <td>373554033.0</td>\n",
       "      <td>7.7</td>\n",
       "    </tr>\n",
       "    <tr>\n",
       "      <th>1</th>\n",
       "      <td>8844</td>\n",
       "      <td>Jumanji</td>\n",
       "      <td>17.015539</td>\n",
       "      <td>65000000</td>\n",
       "      <td>262797249.0</td>\n",
       "      <td>6.9</td>\n",
       "    </tr>\n",
       "    <tr>\n",
       "      <th>2</th>\n",
       "      <td>15602</td>\n",
       "      <td>Grumpier Old Men</td>\n",
       "      <td>11.7129</td>\n",
       "      <td>0</td>\n",
       "      <td>0.0</td>\n",
       "      <td>6.5</td>\n",
       "    </tr>\n",
       "    <tr>\n",
       "      <th>3</th>\n",
       "      <td>31357</td>\n",
       "      <td>Waiting to Exhale</td>\n",
       "      <td>3.859495</td>\n",
       "      <td>16000000</td>\n",
       "      <td>81452156.0</td>\n",
       "      <td>6.1</td>\n",
       "    </tr>\n",
       "    <tr>\n",
       "      <th>4</th>\n",
       "      <td>11862</td>\n",
       "      <td>Father of the Bride Part II</td>\n",
       "      <td>8.387519</td>\n",
       "      <td>0</td>\n",
       "      <td>76578911.0</td>\n",
       "      <td>5.7</td>\n",
       "    </tr>\n",
       "    <tr>\n",
       "      <th>5</th>\n",
       "      <td>949</td>\n",
       "      <td>Heat</td>\n",
       "      <td>17.924927</td>\n",
       "      <td>60000000</td>\n",
       "      <td>187436818.0</td>\n",
       "      <td>7.7</td>\n",
       "    </tr>\n",
       "    <tr>\n",
       "      <th>6</th>\n",
       "      <td>11860</td>\n",
       "      <td>Sabrina</td>\n",
       "      <td>6.677277</td>\n",
       "      <td>58000000</td>\n",
       "      <td>0.0</td>\n",
       "      <td>6.2</td>\n",
       "    </tr>\n",
       "    <tr>\n",
       "      <th>7</th>\n",
       "      <td>45325</td>\n",
       "      <td>Tom and Huck</td>\n",
       "      <td>2.561161</td>\n",
       "      <td>0</td>\n",
       "      <td>0.0</td>\n",
       "      <td>5.4</td>\n",
       "    </tr>\n",
       "    <tr>\n",
       "      <th>8</th>\n",
       "      <td>9091</td>\n",
       "      <td>Sudden Death</td>\n",
       "      <td>5.23158</td>\n",
       "      <td>35000000</td>\n",
       "      <td>64350171.0</td>\n",
       "      <td>5.5</td>\n",
       "    </tr>\n",
       "    <tr>\n",
       "      <th>9</th>\n",
       "      <td>710</td>\n",
       "      <td>GoldenEye</td>\n",
       "      <td>14.686036</td>\n",
       "      <td>58000000</td>\n",
       "      <td>352194034.0</td>\n",
       "      <td>6.6</td>\n",
       "    </tr>\n",
       "  </tbody>\n",
       "</table>\n",
       "</div>"
      ],
      "text/plain": [
       "      id               original_title popularity    budget      revenue  \\\n",
       "0    862                    Toy Story  21.946943  30000000  373554033.0   \n",
       "1   8844                      Jumanji  17.015539  65000000  262797249.0   \n",
       "2  15602             Grumpier Old Men    11.7129         0          0.0   \n",
       "3  31357            Waiting to Exhale   3.859495  16000000   81452156.0   \n",
       "4  11862  Father of the Bride Part II   8.387519         0   76578911.0   \n",
       "5    949                         Heat  17.924927  60000000  187436818.0   \n",
       "6  11860                      Sabrina   6.677277  58000000          0.0   \n",
       "7  45325                 Tom and Huck   2.561161         0          0.0   \n",
       "8   9091                 Sudden Death    5.23158  35000000   64350171.0   \n",
       "9    710                    GoldenEye  14.686036  58000000  352194034.0   \n",
       "\n",
       "   vote_average  \n",
       "0           7.7  \n",
       "1           6.9  \n",
       "2           6.5  \n",
       "3           6.1  \n",
       "4           5.7  \n",
       "5           7.7  \n",
       "6           6.2  \n",
       "7           5.4  \n",
       "8           5.5  \n",
       "9           6.6  "
      ]
     },
     "execution_count": 2,
     "metadata": {},
     "output_type": "execute_result"
    }
   ],
   "source": [
    "#YOUR CODE HERE\n",
    "df_movies = pd.read_csv('data/movies_metadata.csv', sep=',', encoding='latin', low_memory=False)\n",
    "df_movies = df_movies[['id', 'original_title', 'popularity', 'budget', 'revenue', 'vote_average']]\n",
    "df_movies.head(10)"
   ]
  },
  {
   "cell_type": "markdown",
   "metadata": {},
   "source": [
    "### Data Cleaning"
   ]
  },
  {
   "cell_type": "markdown",
   "metadata": {},
   "source": [
    "**According to dataset description, the information about `budget` for some movies are missing or incorrect**. Thus, in the cells bellow, we will select the lines only where the `budget` is numeric and greater than zero."
   ]
  },
  {
   "cell_type": "code",
   "execution_count": 3,
   "metadata": {},
   "outputs": [],
   "source": [
    "df_movies = df_movies[df_movies.budget.apply(lambda x: x.isnumeric())]\n",
    "df_movies.budget = df_movies.budget.astype(np.float64)"
   ]
  },
  {
   "cell_type": "code",
   "execution_count": 4,
   "metadata": {},
   "outputs": [],
   "source": [
    "df_movies = df_movies[(df_movies.budget > 0) & (df_movies.revenue > 0)]"
   ]
  },
  {
   "cell_type": "markdown",
   "metadata": {},
   "source": [
    "Since the **Task 1** is a binary classification problem, I will create an aditional column to tell if the movie had a profit or not: "
   ]
  },
  {
   "cell_type": "code",
   "execution_count": 5,
   "metadata": {},
   "outputs": [
    {
     "name": "stdout",
     "output_type": "stream",
     "text": [
      "(5381, 7)\n"
     ]
    },
    {
     "data": {
      "text/html": [
       "<div>\n",
       "<style scoped>\n",
       "    .dataframe tbody tr th:only-of-type {\n",
       "        vertical-align: middle;\n",
       "    }\n",
       "\n",
       "    .dataframe tbody tr th {\n",
       "        vertical-align: top;\n",
       "    }\n",
       "\n",
       "    .dataframe thead th {\n",
       "        text-align: right;\n",
       "    }\n",
       "</style>\n",
       "<table border=\"1\" class=\"dataframe\">\n",
       "  <thead>\n",
       "    <tr style=\"text-align: right;\">\n",
       "      <th></th>\n",
       "      <th>id</th>\n",
       "      <th>original_title</th>\n",
       "      <th>popularity</th>\n",
       "      <th>budget</th>\n",
       "      <th>revenue</th>\n",
       "      <th>vote_average</th>\n",
       "      <th>profit</th>\n",
       "    </tr>\n",
       "  </thead>\n",
       "  <tbody>\n",
       "    <tr>\n",
       "      <th>0</th>\n",
       "      <td>862</td>\n",
       "      <td>Toy Story</td>\n",
       "      <td>21.946943</td>\n",
       "      <td>30000000.0</td>\n",
       "      <td>373554033.0</td>\n",
       "      <td>7.7</td>\n",
       "      <td>True</td>\n",
       "    </tr>\n",
       "    <tr>\n",
       "      <th>1</th>\n",
       "      <td>8844</td>\n",
       "      <td>Jumanji</td>\n",
       "      <td>17.015539</td>\n",
       "      <td>65000000.0</td>\n",
       "      <td>262797249.0</td>\n",
       "      <td>6.9</td>\n",
       "      <td>True</td>\n",
       "    </tr>\n",
       "    <tr>\n",
       "      <th>3</th>\n",
       "      <td>31357</td>\n",
       "      <td>Waiting to Exhale</td>\n",
       "      <td>3.859495</td>\n",
       "      <td>16000000.0</td>\n",
       "      <td>81452156.0</td>\n",
       "      <td>6.1</td>\n",
       "      <td>True</td>\n",
       "    </tr>\n",
       "    <tr>\n",
       "      <th>5</th>\n",
       "      <td>949</td>\n",
       "      <td>Heat</td>\n",
       "      <td>17.924927</td>\n",
       "      <td>60000000.0</td>\n",
       "      <td>187436818.0</td>\n",
       "      <td>7.7</td>\n",
       "      <td>True</td>\n",
       "    </tr>\n",
       "    <tr>\n",
       "      <th>8</th>\n",
       "      <td>9091</td>\n",
       "      <td>Sudden Death</td>\n",
       "      <td>5.23158</td>\n",
       "      <td>35000000.0</td>\n",
       "      <td>64350171.0</td>\n",
       "      <td>5.5</td>\n",
       "      <td>True</td>\n",
       "    </tr>\n",
       "    <tr>\n",
       "      <th>9</th>\n",
       "      <td>710</td>\n",
       "      <td>GoldenEye</td>\n",
       "      <td>14.686036</td>\n",
       "      <td>58000000.0</td>\n",
       "      <td>352194034.0</td>\n",
       "      <td>6.6</td>\n",
       "      <td>True</td>\n",
       "    </tr>\n",
       "    <tr>\n",
       "      <th>10</th>\n",
       "      <td>9087</td>\n",
       "      <td>The American President</td>\n",
       "      <td>6.318445</td>\n",
       "      <td>62000000.0</td>\n",
       "      <td>107879496.0</td>\n",
       "      <td>6.5</td>\n",
       "      <td>True</td>\n",
       "    </tr>\n",
       "    <tr>\n",
       "      <th>13</th>\n",
       "      <td>10858</td>\n",
       "      <td>Nixon</td>\n",
       "      <td>5.092</td>\n",
       "      <td>44000000.0</td>\n",
       "      <td>13681765.0</td>\n",
       "      <td>7.1</td>\n",
       "      <td>False</td>\n",
       "    </tr>\n",
       "    <tr>\n",
       "      <th>14</th>\n",
       "      <td>1408</td>\n",
       "      <td>Cutthroat Island</td>\n",
       "      <td>7.284477</td>\n",
       "      <td>98000000.0</td>\n",
       "      <td>10017322.0</td>\n",
       "      <td>5.7</td>\n",
       "      <td>False</td>\n",
       "    </tr>\n",
       "    <tr>\n",
       "      <th>15</th>\n",
       "      <td>524</td>\n",
       "      <td>Casino</td>\n",
       "      <td>10.137389</td>\n",
       "      <td>52000000.0</td>\n",
       "      <td>116112375.0</td>\n",
       "      <td>7.8</td>\n",
       "      <td>True</td>\n",
       "    </tr>\n",
       "  </tbody>\n",
       "</table>\n",
       "</div>"
      ],
      "text/plain": [
       "       id          original_title popularity      budget      revenue  \\\n",
       "0     862               Toy Story  21.946943  30000000.0  373554033.0   \n",
       "1    8844                 Jumanji  17.015539  65000000.0  262797249.0   \n",
       "3   31357       Waiting to Exhale   3.859495  16000000.0   81452156.0   \n",
       "5     949                    Heat  17.924927  60000000.0  187436818.0   \n",
       "8    9091            Sudden Death    5.23158  35000000.0   64350171.0   \n",
       "9     710               GoldenEye  14.686036  58000000.0  352194034.0   \n",
       "10   9087  The American President   6.318445  62000000.0  107879496.0   \n",
       "13  10858                   Nixon      5.092  44000000.0   13681765.0   \n",
       "14   1408        Cutthroat Island   7.284477  98000000.0   10017322.0   \n",
       "15    524                  Casino  10.137389  52000000.0  116112375.0   \n",
       "\n",
       "    vote_average  profit  \n",
       "0            7.7    True  \n",
       "1            6.9    True  \n",
       "3            6.1    True  \n",
       "5            7.7    True  \n",
       "8            5.5    True  \n",
       "9            6.6    True  \n",
       "10           6.5    True  \n",
       "13           7.1   False  \n",
       "14           5.7   False  \n",
       "15           7.8    True  "
      ]
     },
     "execution_count": 5,
     "metadata": {},
     "output_type": "execute_result"
    }
   ],
   "source": [
    "df_movies['profit'] = df_movies.revenue - df_movies.budget\n",
    "df_movies.profit = (df_movies.profit > 0)\n",
    "\n",
    "print(df_movies.shape)\n",
    "df_movies.head(10)"
   ]
  },
  {
   "cell_type": "markdown",
   "metadata": {},
   "source": [
    "### TODO 2: Split the data into a Training and Testing set\n",
    "\n",
    "First shuffle your data, then split your data. Have Training be the first 80%, and testing be the remaining 20%. \n",
    "\n",
    "> I don't need to shuffle my data since it has no predefined order. In addition, I will use the **stratify** option of `train_test_split` method from *scikit-learn* to ensure the same proportion of positive/negative samples in both training and test datasets:"
   ]
  },
  {
   "cell_type": "code",
   "execution_count": 6,
   "metadata": {},
   "outputs": [],
   "source": [
    "#YOUR CODE HERE\n",
    "x = df_movies.drop(columns=['id', 'profit'])\n",
    "y = df_movies.profit.values\n",
    "\n",
    "x_train, x_test, y_train, y_test = train_test_split(x, y, test_size=0.2, stratify=y, random_state=42)"
   ]
  },
  {
   "cell_type": "markdown",
   "metadata": {},
   "source": [
    "#### Now delete your dataset\n",
    "You don't want any of your answers to come from your original dataset any longer, but rather your Training Set, this will help you to not make any mistakes later on, especialy when referencing the checkpoint solutions."
   ]
  },
  {
   "cell_type": "code",
   "execution_count": 7,
   "metadata": {},
   "outputs": [],
   "source": [
    "#YOUR CODE HERE\n",
    "del df_movies"
   ]
  },
  {
   "cell_type": "markdown",
   "metadata": {},
   "source": [
    "### TODO 3: Extracting Basic Statistics\n",
    "\n",
    "Next you need to answer some questions through any means (i.e. write a function or just find the answer) all based on the __Training Set:__\n",
    "1. How many entries are in your dataset?\n",
    "2. Pick a non-trivial attribute (i.e. verified purchases in example), what percentage of your data has this atttribute?\n",
    "3. Pick another different non-trivial attribute, what percentage of your data share both attributes?"
   ]
  },
  {
   "cell_type": "markdown",
   "metadata": {},
   "source": [
    "#### How many entries are in your dataset?"
   ]
  },
  {
   "cell_type": "code",
   "execution_count": 8,
   "metadata": {},
   "outputs": [
    {
     "name": "stdout",
     "output_type": "stream",
     "text": [
      "(4304, 5) (4304,)\n",
      "(1077, 5) (1077,)\n"
     ]
    }
   ],
   "source": [
    "print(x_train.shape, y_train.shape)\n",
    "print(x_test.shape, y_test.shape)"
   ]
  },
  {
   "cell_type": "markdown",
   "metadata": {},
   "source": [
    "#### What percentage of each class in both train and test sets?"
   ]
  },
  {
   "cell_type": "code",
   "execution_count": 9,
   "metadata": {},
   "outputs": [
    {
     "name": "stdout",
     "output_type": "stream",
     "text": [
      "(array([False,  True]), array([1300, 3004], dtype=int64))\n",
      "(array([False,  True]), array([325, 752], dtype=int64))\n"
     ]
    }
   ],
   "source": [
    "print(np.unique(y_train, return_counts=True))\n",
    "print(np.unique(y_test, return_counts=True))"
   ]
  },
  {
   "cell_type": "markdown",
   "metadata": {},
   "source": [
    "#### What's the distribution of each feature per class?"
   ]
  },
  {
   "cell_type": "code",
   "execution_count": 10,
   "metadata": {},
   "outputs": [
    {
     "data": {
      "image/png": "[encoded data removed]",
      "text/plain": [
       "<Figure size 864x288 with 2 Axes>"
      ]
     },
     "metadata": {
      "needs_background": "light"
     },
     "output_type": "display_data"
    }
   ],
   "source": [
    "plt.figure(figsize=(12, 4))\n",
    "plt.subplot(1, 2, 1)\n",
    "pop_profit = x.popularity[y == True].values.astype(np.float)\n",
    "pop_loss = x.popularity[y == False].values.astype(np.float)\n",
    "plt.hist(pop_profit, bins=50, color='blue', alpha=0.5, label='profit')\n",
    "plt.hist(pop_loss, bins=50, color='red', alpha=0.5, label='loss')\n",
    "plt.title('popularity by profit')\n",
    "plt.legend()\n",
    "\n",
    "plt.subplot(1, 2, 2)\n",
    "vote_profit = x.vote_average[y == True].values.astype(np.float)\n",
    "vote_loss = x.vote_average[y == False].values.astype(np.float)\n",
    "plt.hist(vote_profit, bins=50, color='blue', alpha=0.5, label='profit')\n",
    "plt.hist(vote_loss, bins=50, color='red', alpha=0.5, label='loss')\n",
    "plt.title('average vote by profit')\n",
    "plt.legend()\n",
    "plt.show()"
   ]
  },
  {
   "cell_type": "markdown",
   "metadata": {},
   "source": [
    "# Task 2: Classification\n",
    "\n",
    "Next you will use our knowledge of classification to extract features and make predictions based on them. Here you will be using a Logistic Regression Model, keep this in mind so you know where to get help from.\n",
    "\n",
    "### TODO 1: Define the feature function\n",
    "\n",
    "This implementation will be based on ___any two___ attributes from your dataset. You will be using these two attributes to predict a third. Hint: Remember the offset!"
   ]
  },
  {
   "cell_type": "code",
   "execution_count": 11,
   "metadata": {},
   "outputs": [],
   "source": [
    "#FIX THIS\n",
    "\n",
    "def feature(d):\n",
    "    feat = d[['popularity', 'vote_average']].values.astype(np.float64)\n",
    "    return feat"
   ]
  },
  {
   "cell_type": "markdown",
   "metadata": {},
   "source": [
    "### TODO 2: Fit your model\n",
    "\n",
    "1. Create your __Feature Vector__ based on your feature function defined above. \n",
    "2. Create your __Label Vector__ based on the \"verified purchase\" column of your training set.\n",
    "3. Define your model as a __Logistic Regression__ model.\n",
    "4. Fit your model."
   ]
  },
  {
   "cell_type": "code",
   "execution_count": 12,
   "metadata": {},
   "outputs": [
    {
     "name": "stdout",
     "output_type": "stream",
     "text": [
      "(4304, 2)\n",
      "(1077, 2)\n"
     ]
    }
   ],
   "source": [
    "#YOUR CODE HERE\n",
    "x_train = feature(x_train)\n",
    "x_test = feature(x_test)\n",
    "\n",
    "print(x_train.shape)\n",
    "print(x_test.shape)"
   ]
  },
  {
   "cell_type": "code",
   "execution_count": 13,
   "metadata": {},
   "outputs": [],
   "source": [
    "std = StandardScaler()\n",
    "std = std.fit(x_train)\n",
    "\n",
    "x_train = std.transform(x_train)\n",
    "x_test = std.transform(x_test)"
   ]
  },
  {
   "cell_type": "code",
   "execution_count": 14,
   "metadata": {},
   "outputs": [
    {
     "data": {
      "text/plain": [
       "LogisticRegression(C=1.0, class_weight=None, dual=False, fit_intercept=True,\n",
       "                   intercept_scaling=1, l1_ratio=None, max_iter=100,\n",
       "                   multi_class='warn', n_jobs=None, penalty='l2',\n",
       "                   random_state=None, solver='lbfgs', tol=0.0001, verbose=0,\n",
       "                   warm_start=False)"
      ]
     },
     "execution_count": 14,
     "metadata": {},
     "output_type": "execute_result"
    }
   ],
   "source": [
    "clf = LogisticRegression(solver='lbfgs')\n",
    "clf.fit(x_train, y_train)"
   ]
  },
  {
   "cell_type": "markdown",
   "metadata": {},
   "source": [
    "### TODO 3: Compute Accuracy of Your Model\n",
    "\n",
    "1. Make __Predictions__ based on your model.\n",
    "2. Compute the __Accuracy__ of your model."
   ]
  },
  {
   "cell_type": "code",
   "execution_count": 15,
   "metadata": {},
   "outputs": [
    {
     "name": "stdout",
     "output_type": "stream",
     "text": [
      "Acurracy (train): 70.93%\n",
      "Acurracy (test): 72.14%\n"
     ]
    }
   ],
   "source": [
    "#YOUR CODE HERE\n",
    "y_pred = clf.predict(x_train)\n",
    "print('Acurracy (train): {:.2f}%'.format(accuracy_score(y_train, y_pred) * 100))\n",
    "\n",
    "y_pred = clf.predict(x_test)\n",
    "print('Acurracy (test): {:.2f}%'.format(accuracy_score(y_test, y_pred) * 100))"
   ]
  },
  {
   "cell_type": "markdown",
   "metadata": {},
   "source": [
    "# Task 3: Regression\n",
    "\n",
    "In this section you will start by working though two examples of altering features to further differentiate. Then you will work through how to evaluate a Regularaized model."
   ]
  },
  {
   "cell_type": "code",
   "execution_count": 16,
   "metadata": {},
   "outputs": [],
   "source": [
    "#CHANGE PATH\n",
    "path = \"data/amazon_reviews_us_Home_Improvement_v1_00.tsv.gz\"\n",
    "\n",
    "#GIVEN\n",
    "f = gzip.open(path, 'rt', encoding=\"utf8\")\n",
    "header = f.readline()\n",
    "header = header.strip().split('\\t')\n",
    "reg_dataset = []\n",
    "for line in f:\n",
    "    fields = line.strip().split('\\t')\n",
    "    d = dict(zip(header, fields))\n",
    "    d['star_rating'] = int(d['star_rating'])\n",
    "    reg_dataset.append(d)"
   ]
  },
  {
   "cell_type": "markdown",
   "metadata": {},
   "source": [
    "### TODO 1: Unique Words in a Sample Set\n",
    "\n",
    "We are going to work with a new dataset here, as such we are going to take a smaller portion of the set and call it a Sample Set. This is because stemming on the normal training set will take a very long time. (Feel free to change sampleSet -> reg_dataset if you would like to see the difference for yourself)\n",
    "\n",
    "1. Count the number of unique words found within the 'review body' portion of the sample set defined below, making sure to __Ignore Punctuation and Capitalization__.\n",
    "2. Count the number of unique words found within the 'review body' portion of the sample set defined below, this time with use of __Stemming,__ __Ignoring Puctuation,__ ___and___ __Capitalization__."
   ]
  },
  {
   "cell_type": "code",
   "execution_count": 17,
   "metadata": {},
   "outputs": [],
   "source": [
    "#GIVEN for 1.\n",
    "wordCount = defaultdict(int)\n",
    "punctuation = set(string.punctuation)\n",
    "\n",
    "#GIVEN for 2.\n",
    "wordCountStem = defaultdict(int)\n",
    "stemmer = PorterStemmer() #use stemmer.stem(stuff)\n",
    "\n",
    "#SampleSet and y vector given\n",
    "sampleSet = reg_dataset[:2*len(reg_dataset)//10]\n",
    "y_reg = [d['star_rating'] for d in sampleSet]"
   ]
  },
  {
   "cell_type": "code",
   "execution_count": 18,
   "metadata": {},
   "outputs": [
    {
     "name": "stdout",
     "output_type": "stream",
     "text": [
      "#unique words: 156174\n"
     ]
    }
   ],
   "source": [
    "for i, d in enumerate(sampleSet):\n",
    "    sentence = ''.join([c for c in d['review_body'].lower() if not c in punctuation])\n",
    "    for word in sentence.split():\n",
    "        wordCount[word] += 1\n",
    "        \n",
    "print('#unique words:', len(wordCount.keys()))"
   ]
  },
  {
   "cell_type": "code",
   "execution_count": 19,
   "metadata": {},
   "outputs": [
    {
     "name": "stdout",
     "output_type": "stream",
     "text": [
      "#unique words wit steemer: 131821\n"
     ]
    }
   ],
   "source": [
    "for i, d in enumerate(sampleSet):\n",
    "    sentence = ''.join([c for c in d['review_body'].lower() if not c in punctuation])\n",
    "    for word in sentence.split():\n",
    "        wordCountStem[stemmer.stem(word)] += 1\n",
    "        \n",
    "print('#unique words wit steemer:', len(wordCountStem.keys()))"
   ]
  },
  {
   "cell_type": "markdown",
   "metadata": {},
   "source": [
    "### TODO 2: Evaluating Classifiers\n",
    "\n",
    "1. Given the feature function and your counts vector, __Define__ your X_reg vector. (This being the X vector, simply labeled for the Regression model)\n",
    "2. __Fit__ your model using a __Ridge Model__ with (alpha = 1.0, fit_intercept = True).\n",
    "3. Using your model, __Make your Predictions__.\n",
    "4. Find the __MSE__ between your predictions and your y_reg vector."
   ]
  },
  {
   "cell_type": "code",
   "execution_count": 20,
   "metadata": {},
   "outputs": [],
   "source": [
    "#GIVEN FUNCTIONS\n",
    "def feature_reg(datum):\n",
    "    feat = [0]*len(words)\n",
    "    r = ''.join([c for c in datum['review_body'].lower() if not c in punctuation])\n",
    "    for w in r.split():\n",
    "        if w in wordSet:\n",
    "            feat[wordId[w]] += 1\n",
    "    return feat\n",
    "\n",
    "def MSE(predictions, labels):\n",
    "    differences = [(x-y)**2 for x,y in zip(predictions,labels)]\n",
    "    return sum(differences) / len(differences)\n",
    "\n",
    "#GIVEN COUNTS AND SETS\n",
    "counts = [(wordCount[w], w) for w in wordCount]\n",
    "counts.sort()\n",
    "counts.reverse()\n",
    "\n",
    "#Note: increasing the size of the dictionary may require a lot of memory\n",
    "words = [x[1] for x in counts[:100]]\n",
    "\n",
    "wordId = dict(zip(words, range(len(words))))\n",
    "wordSet = set(words)"
   ]
  },
  {
   "cell_type": "code",
   "execution_count": 21,
   "metadata": {},
   "outputs": [
    {
     "name": "stdout",
     "output_type": "stream",
     "text": [
      "(526956, 100)\n"
     ]
    }
   ],
   "source": [
    "#YOUR CODE HERE\n",
    "X_reg = np.array([feature_reg(d) for d in sampleSet])\n",
    "print(X_reg.shape)"
   ]
  },
  {
   "cell_type": "code",
   "execution_count": 22,
   "metadata": {},
   "outputs": [
    {
     "name": "stdout",
     "output_type": "stream",
     "text": [
      "MSE: 1.268190701607542\n"
     ]
    }
   ],
   "source": [
    "reg = Ridge(alpha=1.0, fit_intercept=True)\n",
    "reg.fit(X_reg, y_reg)\n",
    "\n",
    "y_pred = reg.predict(X_reg)\n",
    "print('MSE:', MSE(y_pred, y_reg))"
   ]
  },
  {
   "cell_type": "markdown",
   "metadata": {},
   "source": [
    "# Task 4: Recommendation Systems\n",
    "\n",
    "For your final task, you will use your knowledge of simple similarity-based recommender systems to make calculate the most similar items.\n",
    "\n",
    "The next cell contains some starter code that you will need for your tasks in this section.\n",
    "Notice you should be back to using your __trainingSet__."
   ]
  },
  {
   "cell_type": "code",
   "execution_count": 23,
   "metadata": {},
   "outputs": [],
   "source": [
    "#GIVEN\n",
    "attribute_1 = defaultdict(set)\n",
    "attribute_2 = defaultdict(set)"
   ]
  },
  {
   "cell_type": "markdown",
   "metadata": {},
   "source": [
    "### TODO 1: Fill your Dictionaries\n",
    "\n",
    "1. For each entry in your training set, fill your default dictionaries (defined above). "
   ]
  },
  {
   "cell_type": "code",
   "execution_count": 24,
   "metadata": {},
   "outputs": [
    {
     "data": {
      "text/html": [
       "<div>\n",
       "<style scoped>\n",
       "    .dataframe tbody tr th:only-of-type {\n",
       "        vertical-align: middle;\n",
       "    }\n",
       "\n",
       "    .dataframe tbody tr th {\n",
       "        vertical-align: top;\n",
       "    }\n",
       "\n",
       "    .dataframe thead th {\n",
       "        text-align: right;\n",
       "    }\n",
       "</style>\n",
       "<table border=\"1\" class=\"dataframe\">\n",
       "  <thead>\n",
       "    <tr style=\"text-align: right;\">\n",
       "      <th></th>\n",
       "      <th>userId</th>\n",
       "      <th>movieId</th>\n",
       "      <th>original_title</th>\n",
       "      <th>rating</th>\n",
       "    </tr>\n",
       "  </thead>\n",
       "  <tbody>\n",
       "    <tr>\n",
       "      <th>0</th>\n",
       "      <td>1</td>\n",
       "      <td>1371</td>\n",
       "      <td>Rocky III</td>\n",
       "      <td>2.5</td>\n",
       "    </tr>\n",
       "    <tr>\n",
       "      <th>1</th>\n",
       "      <td>4</td>\n",
       "      <td>1371</td>\n",
       "      <td>Rocky III</td>\n",
       "      <td>4.0</td>\n",
       "    </tr>\n",
       "    <tr>\n",
       "      <th>2</th>\n",
       "      <td>7</td>\n",
       "      <td>1371</td>\n",
       "      <td>Rocky III</td>\n",
       "      <td>3.0</td>\n",
       "    </tr>\n",
       "    <tr>\n",
       "      <th>3</th>\n",
       "      <td>19</td>\n",
       "      <td>1371</td>\n",
       "      <td>Rocky III</td>\n",
       "      <td>4.0</td>\n",
       "    </tr>\n",
       "    <tr>\n",
       "      <th>4</th>\n",
       "      <td>21</td>\n",
       "      <td>1371</td>\n",
       "      <td>Rocky III</td>\n",
       "      <td>3.0</td>\n",
       "    </tr>\n",
       "    <tr>\n",
       "      <th>5</th>\n",
       "      <td>22</td>\n",
       "      <td>1371</td>\n",
       "      <td>Rocky III</td>\n",
       "      <td>2.0</td>\n",
       "    </tr>\n",
       "    <tr>\n",
       "      <th>6</th>\n",
       "      <td>41</td>\n",
       "      <td>1371</td>\n",
       "      <td>Rocky III</td>\n",
       "      <td>3.5</td>\n",
       "    </tr>\n",
       "    <tr>\n",
       "      <th>7</th>\n",
       "      <td>78</td>\n",
       "      <td>1371</td>\n",
       "      <td>Rocky III</td>\n",
       "      <td>4.0</td>\n",
       "    </tr>\n",
       "    <tr>\n",
       "      <th>8</th>\n",
       "      <td>118</td>\n",
       "      <td>1371</td>\n",
       "      <td>Rocky III</td>\n",
       "      <td>3.0</td>\n",
       "    </tr>\n",
       "    <tr>\n",
       "      <th>9</th>\n",
       "      <td>130</td>\n",
       "      <td>1371</td>\n",
       "      <td>Rocky III</td>\n",
       "      <td>3.0</td>\n",
       "    </tr>\n",
       "  </tbody>\n",
       "</table>\n",
       "</div>"
      ],
      "text/plain": [
       "   userId  movieId original_title  rating\n",
       "0       1     1371      Rocky III     2.5\n",
       "1       4     1371      Rocky III     4.0\n",
       "2       7     1371      Rocky III     3.0\n",
       "3      19     1371      Rocky III     4.0\n",
       "4      21     1371      Rocky III     3.0\n",
       "5      22     1371      Rocky III     2.0\n",
       "6      41     1371      Rocky III     3.5\n",
       "7      78     1371      Rocky III     4.0\n",
       "8     118     1371      Rocky III     3.0\n",
       "9     130     1371      Rocky III     3.0"
      ]
     },
     "execution_count": 24,
     "metadata": {},
     "output_type": "execute_result"
    }
   ],
   "source": [
    "df_ratings = pd.read_csv('data/ratings_small.csv')\n",
    "\n",
    "df_movies = pd.read_csv('data/movies_metadata.csv', sep=',', encoding='latin', low_memory=False)\n",
    "df_movies = df_movies[df_movies.id.apply(lambda x: x.isnumeric())][['id', 'original_title']]\n",
    "df_movies.id = df_movies.id.astype(np.int64)\n",
    "\n",
    "df_merge = df_ratings.merge(df_movies, how='inner', left_on='movieId', right_on='id')\n",
    "df_merge = df_merge[['userId', 'movieId', 'original_title', 'rating']]\n",
    "df_merge.head(10)"
   ]
  },
  {
   "cell_type": "code",
   "execution_count": 25,
   "metadata": {},
   "outputs": [],
   "source": [
    "#YOUR CODE HERE\n",
    "itemNames = {}\n",
    "\n",
    "for _, row in df_merge.iterrows():\n",
    "    user, item = row['userId'], row['movieId']\n",
    "    attribute_1[item].add(user)\n",
    "    attribute_2[user].add(item)\n",
    "    itemNames[item] = row['original_title']"
   ]
  },
  {
   "cell_type": "code",
   "execution_count": 26,
   "metadata": {},
   "outputs": [],
   "source": [
    "#GIVEN\n",
    "def Jaccard(s1, s2):\n",
    "    numer = len(s1.intersection(s2))\n",
    "    denom = len(s1.union(s2))\n",
    "    return numer / denom\n",
    "\n",
    "def mostSimilar(n, m): #n is the entry index\n",
    "    similarities = []  #m is the number of entries\n",
    "    users = attribute_1[n]\n",
    "    for i2 in attribute_1:\n",
    "        if i2 == n: continue\n",
    "        sim = Jaccard(users, attribute_1[i2])\n",
    "        similarities.append((sim, i2))\n",
    "    similarities.sort(reverse=True)\n",
    "    return similarities[:m]"
   ]
  },
  {
   "cell_type": "markdown",
   "metadata": {},
   "source": [
    "### TODO 1: Fill your Dictionaries\n",
    "\n",
    "1. Calculate the __10__ most similar entries to the __first__ entry in your dataset, using the functions defined above."
   ]
  },
  {
   "cell_type": "code",
   "execution_count": 27,
   "metadata": {},
   "outputs": [
    {
     "data": {
      "text/plain": [
       "1371"
      ]
     },
     "execution_count": 27,
     "metadata": {},
     "output_type": "execute_result"
    }
   ],
   "source": [
    "#YOUR CODE HERE\n",
    "query = df_merge.loc[0, 'movieId']\n",
    "query"
   ]
  },
  {
   "cell_type": "code",
   "execution_count": 28,
   "metadata": {},
   "outputs": [
    {
     "data": {
      "text/plain": [
       "'Rocky III'"
      ]
     },
     "execution_count": 28,
     "metadata": {},
     "output_type": "execute_result"
    }
   ],
   "source": [
    "itemNames[query]"
   ]
  },
  {
   "cell_type": "code",
   "execution_count": 29,
   "metadata": {},
   "outputs": [
    {
     "data": {
      "text/plain": [
       "[(1.0, 160718),\n",
       " (1.0, 158238),\n",
       " (1.0, 148652),\n",
       " (1.0, 142507),\n",
       " (1.0, 140174),\n",
       " (1.0, 135536),\n",
       " (1.0, 134881),\n",
       " (1.0, 134569),\n",
       " (1.0, 134368),\n",
       " (1.0, 134158)]"
      ]
     },
     "execution_count": 29,
     "metadata": {},
     "output_type": "execute_result"
    }
   ],
   "source": [
    "mostSimilar(query, 10)"
   ]
  },
  {
   "cell_type": "code",
   "execution_count": 30,
   "metadata": {},
   "outputs": [
    {
     "data": {
      "text/plain": [
       "['I Spy Returns',\n",
       " 'Stolen Seas',\n",
       " 'The Eleventh Victim',\n",
       " 'Exit',\n",
       " 'Rise of the Zombies',\n",
       " 'Chi lavora Ã¨ perduto',\n",
       " 'More of Me',\n",
       " 'Jib',\n",
       " 'One Tough Cop',\n",
       " 'The Punk Rock Movie']"
      ]
     },
     "execution_count": 30,
     "metadata": {},
     "output_type": "execute_result"
    }
   ],
   "source": [
    "[itemNames[movieID] for sim, movieID in mostSimilar(query, 10)]"
   ]
  },
  {
   "cell_type": "markdown",
   "metadata": {},
   "source": [
    "## Finished!\n",
    "\n",
    "Congratulations! You are now ready to submit your work. Once you have submitted make sure to get started on your peer reviews!"
   ]
  }
 ],
 "metadata": {
  "kernelspec": {
   "display_name": "Python 3",
   "language": "python",
   "name": "python3"
  },
  "language_info": {
   "codemirror_mode": {
    "name": "ipython",
    "version": 3
   },
   "file_extension": ".py",
   "mimetype": "text/x-python",
   "name": "python",
   "nbconvert_exporter": "python",
   "pygments_lexer": "ipython3",
   "version": "3.7.3"
  }
 },
 "nbformat": 4,
 "nbformat_minor": 2
}
